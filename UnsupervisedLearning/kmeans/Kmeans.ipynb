{
 "cells": [
  {
   "cell_type": "code",
   "id": "initial_id",
   "metadata": {
    "collapsed": true,
    "ExecuteTime": {
     "end_time": "2025-06-17T15:53:36.375262Z",
     "start_time": "2025-06-17T15:53:36.367077Z"
    }
   },
   "source": "#Customer Clustering app\n",
   "outputs": [],
   "execution_count": 2
  },
  {
   "metadata": {
    "ExecuteTime": {
     "end_time": "2025-06-17T15:53:48.343155Z",
     "start_time": "2025-06-17T15:53:36.402222Z"
    }
   },
   "cell_type": "code",
   "source": [
    "import numpy as np\n",
    "import pandas as pd\n",
    "from sklearn.cluster import KMeans\n",
    "from sklearn.metrics import silhouette_score #used for calculating kmeans score\n",
    "import matplotlib.pyplot as plt\n"
   ],
   "id": "62db65697b4327f9",
   "outputs": [],
   "execution_count": 3
  },
  {
   "metadata": {
    "ExecuteTime": {
     "end_time": "2025-06-17T15:53:48.499240Z",
     "start_time": "2025-06-17T15:53:48.419547Z"
    }
   },
   "cell_type": "code",
   "source": [
    "np.random.seed(42)\n",
    "data={\n",
    "    'CustomerID':np.arange(1,101),\n",
    "    'Age':np.random.randint(18,65,size=100),\n",
    "    'Average_Spend':np.random.uniform(5,50,size=100),\n",
    "    'Visits_per_week':np.random.uniform(1,7,size=100),\n",
    "    'Promotion_intrest':np.random.randint(1,11,size=100),\n",
    "}\n",
    "\n",
    "#Converting it into data frame\n",
    "df=pd.DataFrame(data)\n",
    "df.head()"
   ],
   "id": "c24182451ae1444d",
   "outputs": [
    {
     "data": {
      "text/plain": [
       "   CustomerID  Age  Average_Spend  Visits_per_week  Promotion_intrest\n",
       "0           1   56      18.206968         5.266897                  2\n",
       "1           2   46       5.633592         5.857006                  9\n",
       "2           3   32      13.947908         3.091996                  8\n",
       "3           4   60      37.010388         1.577059                 10\n",
       "4           5   25      40.557899         6.643140                  7"
      ],
      "text/html": [
       "<div>\n",
       "<style scoped>\n",
       "    .dataframe tbody tr th:only-of-type {\n",
       "        vertical-align: middle;\n",
       "    }\n",
       "\n",
       "    .dataframe tbody tr th {\n",
       "        vertical-align: top;\n",
       "    }\n",
       "\n",
       "    .dataframe thead th {\n",
       "        text-align: right;\n",
       "    }\n",
       "</style>\n",
       "<table border=\"1\" class=\"dataframe\">\n",
       "  <thead>\n",
       "    <tr style=\"text-align: right;\">\n",
       "      <th></th>\n",
       "      <th>CustomerID</th>\n",
       "      <th>Age</th>\n",
       "      <th>Average_Spend</th>\n",
       "      <th>Visits_per_week</th>\n",
       "      <th>Promotion_intrest</th>\n",
       "    </tr>\n",
       "  </thead>\n",
       "  <tbody>\n",
       "    <tr>\n",
       "      <th>0</th>\n",
       "      <td>1</td>\n",
       "      <td>56</td>\n",
       "      <td>18.206968</td>\n",
       "      <td>5.266897</td>\n",
       "      <td>2</td>\n",
       "    </tr>\n",
       "    <tr>\n",
       "      <th>1</th>\n",
       "      <td>2</td>\n",
       "      <td>46</td>\n",
       "      <td>5.633592</td>\n",
       "      <td>5.857006</td>\n",
       "      <td>9</td>\n",
       "    </tr>\n",
       "    <tr>\n",
       "      <th>2</th>\n",
       "      <td>3</td>\n",
       "      <td>32</td>\n",
       "      <td>13.947908</td>\n",
       "      <td>3.091996</td>\n",
       "      <td>8</td>\n",
       "    </tr>\n",
       "    <tr>\n",
       "      <th>3</th>\n",
       "      <td>4</td>\n",
       "      <td>60</td>\n",
       "      <td>37.010388</td>\n",
       "      <td>1.577059</td>\n",
       "      <td>10</td>\n",
       "    </tr>\n",
       "    <tr>\n",
       "      <th>4</th>\n",
       "      <td>5</td>\n",
       "      <td>25</td>\n",
       "      <td>40.557899</td>\n",
       "      <td>6.643140</td>\n",
       "      <td>7</td>\n",
       "    </tr>\n",
       "  </tbody>\n",
       "</table>\n",
       "</div>"
      ]
     },
     "execution_count": 4,
     "metadata": {},
     "output_type": "execute_result"
    }
   ],
   "execution_count": 4
  },
  {
   "metadata": {
    "ExecuteTime": {
     "end_time": "2025-06-17T15:53:55.298070Z",
     "start_time": "2025-06-17T15:53:48.906375Z"
    }
   },
   "cell_type": "code",
   "source": [
    "#Applying kmeans clustering\n",
    "#firstly we define number of clusters(group) using elbow method and wss(within cluster sum of square ) to check how the data points are scattered around the centroid\n",
    "\n",
    "X=df[['Age','Visits_per_week','Promotion_intrest','Average_Spend']]\n",
    "\n",
    "sse=[] #defining a empty list\n",
    "k_range=range(1,11) #loop range from 1 to 10\n",
    "\n",
    "for k in k_range:\n",
    "    kmeans=KMeans(n_clusters=k,random_state=42)\n",
    "    kmeans.fit(X)\n",
    "    sse.append(kmeans.inertia_)\n",
    "#Inertia_ = Within-Cluster Sum of Squared Errors (WSS)\n",
    "# Lower is better → tighter clusters\n",
    "\n",
    "#plotting the elbow curve\n",
    "plt.plot(k_range,sse,marker='o')\n",
    "plt.xlabel('Number of Clusters')\n",
    "plt.ylabel('SSE')\n",
    "plt.title('Elbow Method')\n",
    "plt.show()\n",
    "\n",
    "#we take the cluster from graph where the graph starts decreasing ,but not sharply\n"
   ],
   "id": "5ce6ee1ec1f2d830",
   "outputs": [
    {
     "data": {
      "text/plain": [
       "<Figure size 640x480 with 1 Axes>"
      ],
      "image/png": "[encoded data removed]"
     },
     "metadata": {},
     "output_type": "display_data"
    }
   ],
   "execution_count": 5
  },
  {
   "metadata": {
    "ExecuteTime": {
     "end_time": "2025-06-17T16:00:39.893719Z",
     "start_time": "2025-06-17T16:00:39.866048Z"
    }
   },
   "cell_type": "code",
   "source": [
    "features=df[['Age','Visits_per_week','Promotion_intrest','Average_Spend']]\n",
    "kmeans=KMeans(n_clusters=3,random_state=42)\n",
    "df['Cluster']=kmeans.fit_predict(features)\n",
    "cluster_names={0:'Daily',1:'Promotion',2:'Weekend'}\n",
    "df['Cluster Group']=df['Cluster'].map(cluster_names)"
   ],
   "id": "4e2bf52398ae944a",
   "outputs": [],
   "execution_count": 11
  },
  {
   "metadata": {
    "ExecuteTime": {
     "end_time": "2025-06-17T16:00:47.035245Z",
     "start_time": "2025-06-17T16:00:47.017238Z"
    }
   },
   "cell_type": "code",
   "source": "df",
   "id": "250f5c62e97d5daa",
   "outputs": [
    {
     "data": {
      "text/plain": [
       "    CustomerID  Age  Average_Spend  Visits_per_week  Promotion_intrest  \\\n",
       "0            1   56      18.206968         5.266897                  2   \n",
       "1            2   46       5.633592         5.857006                  9   \n",
       "2            3   32      13.947908         3.091996                  8   \n",
       "3            4   60      37.010388         1.577059                 10   \n",
       "4            5   25      40.557899         6.643140                  7   \n",
       "..         ...  ...            ...              ...                ...   \n",
       "95          96   24      27.868945         1.819728                 10   \n",
       "96          97   26      36.311576         5.253466                 10   \n",
       "97          98   41      43.626146         4.316920                  3   \n",
       "98          99   18      19.668151         2.779061                 10   \n",
       "99         100   61      14.910847         3.518685                  1   \n",
       "\n",
       "    Cluster Cluster Group  \n",
       "0         2       Weekend  \n",
       "1         2       Weekend  \n",
       "2         2       Weekend  \n",
       "3         0         Daily  \n",
       "4         1     Promotion  \n",
       "..      ...           ...  \n",
       "95        1     Promotion  \n",
       "96        1     Promotion  \n",
       "97        0         Daily  \n",
       "98        1     Promotion  \n",
       "99        2       Weekend  \n",
       "\n",
       "[100 rows x 7 columns]"
      ],
      "text/html": [
       "<div>\n",
       "<style scoped>\n",
       "    .dataframe tbody tr th:only-of-type {\n",
       "        vertical-align: middle;\n",
       "    }\n",
       "\n",
       "    .dataframe tbody tr th {\n",
       "        vertical-align: top;\n",
       "    }\n",
       "\n",
       "    .dataframe thead th {\n",
       "        text-align: right;\n",
       "    }\n",
       "</style>\n",
       "<table border=\"1\" class=\"dataframe\">\n",
       "  <thead>\n",
       "    <tr style=\"text-align: right;\">\n",
       "      <th></th>\n",
       "      <th>CustomerID</th>\n",
       "      <th>Age</th>\n",
       "      <th>Average_Spend</th>\n",
       "      <th>Visits_per_week</th>\n",
       "      <th>Promotion_intrest</th>\n",
       "      <th>Cluster</th>\n",
       "      <th>Cluster Group</th>\n",
       "    </tr>\n",
       "  </thead>\n",
       "  <tbody>\n",
       "    <tr>\n",
       "      <th>0</th>\n",
       "      <td>1</td>\n",
       "      <td>56</td>\n",
       "      <td>18.206968</td>\n",
       "      <td>5.266897</td>\n",
       "      <td>2</td>\n",
       "      <td>2</td>\n",
       "      <td>Weekend</td>\n",
       "    </tr>\n",
       "    <tr>\n",
       "      <th>1</th>\n",
       "      <td>2</td>\n",
       "      <td>46</td>\n",
       "      <td>5.633592</td>\n",
       "      <td>5.857006</td>\n",
       "      <td>9</td>\n",
       "      <td>2</td>\n",
       "      <td>Weekend</td>\n",
       "    </tr>\n",
       "    <tr>\n",
       "      <th>2</th>\n",
       "      <td>3</td>\n",
       "      <td>32</td>\n",
       "      <td>13.947908</td>\n",
       "      <td>3.091996</td>\n",
       "      <td>8</td>\n",
       "      <td>2</td>\n",
       "      <td>Weekend</td>\n",
       "    </tr>\n",
       "    <tr>\n",
       "      <th>3</th>\n",
       "      <td>4</td>\n",
       "      <td>60</td>\n",
       "      <td>37.010388</td>\n",
       "      <td>1.577059</td>\n",
       "      <td>10</td>\n",
       "      <td>0</td>\n",
       "      <td>Daily</td>\n",
       "    </tr>\n",
       "    <tr>\n",
       "      <th>4</th>\n",
       "      <td>5</td>\n",
       "      <td>25</td>\n",
       "      <td>40.557899</td>\n",
       "      <td>6.643140</td>\n",
       "      <td>7</td>\n",
       "      <td>1</td>\n",
       "      <td>Promotion</td>\n",
       "    </tr>\n",
       "    <tr>\n",
       "      <th>...</th>\n",
       "      <td>...</td>\n",
       "      <td>...</td>\n",
       "      <td>...</td>\n",
       "      <td>...</td>\n",
       "      <td>...</td>\n",
       "      <td>...</td>\n",
       "      <td>...</td>\n",
       "    </tr>\n",
       "    <tr>\n",
       "      <th>95</th>\n",
       "      <td>96</td>\n",
       "      <td>24</td>\n",
       "      <td>27.868945</td>\n",
       "      <td>1.819728</td>\n",
       "      <td>10</td>\n",
       "      <td>1</td>\n",
       "      <td>Promotion</td>\n",
       "    </tr>\n",
       "    <tr>\n",
       "      <th>96</th>\n",
       "      <td>97</td>\n",
       "      <td>26</td>\n",
       "      <td>36.311576</td>\n",
       "      <td>5.253466</td>\n",
       "      <td>10</td>\n",
       "      <td>1</td>\n",
       "      <td>Promotion</td>\n",
       "    </tr>\n",
       "    <tr>\n",
       "      <th>97</th>\n",
       "      <td>98</td>\n",
       "      <td>41</td>\n",
       "      <td>43.626146</td>\n",
       "      <td>4.316920</td>\n",
       "      <td>3</td>\n",
       "      <td>0</td>\n",
       "      <td>Daily</td>\n",
       "    </tr>\n",
       "    <tr>\n",
       "      <th>98</th>\n",
       "      <td>99</td>\n",
       "      <td>18</td>\n",
       "      <td>19.668151</td>\n",
       "      <td>2.779061</td>\n",
       "      <td>10</td>\n",
       "      <td>1</td>\n",
       "      <td>Promotion</td>\n",
       "    </tr>\n",
       "    <tr>\n",
       "      <th>99</th>\n",
       "      <td>100</td>\n",
       "      <td>61</td>\n",
       "      <td>14.910847</td>\n",
       "      <td>3.518685</td>\n",
       "      <td>1</td>\n",
       "      <td>2</td>\n",
       "      <td>Weekend</td>\n",
       "    </tr>\n",
       "  </tbody>\n",
       "</table>\n",
       "<p>100 rows × 7 columns</p>\n",
       "</div>"
      ]
     },
     "execution_count": 12,
     "metadata": {},
     "output_type": "execute_result"
    }
   ],
   "execution_count": 12
  },
  {
   "metadata": {
    "ExecuteTime": {
     "end_time": "2025-06-17T16:04:15.219076Z",
     "start_time": "2025-06-17T16:04:15.023833Z"
    }
   },
   "cell_type": "code",
   "source": [
    "plt.scatter(df['Age'],df['Average_Spend'],c=df['Cluster'],cmap='viridis',marker='o')\n",
    "plt.xlabel('Age')\n",
    "plt.ylabel('Average Spend')\n",
    "plt.title('Customer Cluster Based on Average Spend')"
   ],
   "id": "1f61a1a003b7d435",
   "outputs": [
    {
     "data": {
      "text/plain": [
       "Text(0.5, 1.0, 'Customer Cluster Based on Average Spend')"
      ]
     },
     "execution_count": 18,
     "metadata": {},
     "output_type": "execute_result"
    },
    {
     "data": {
      "text/plain": [
       "<Figure size 640x480 with 1 Axes>"
      ],
      "image/png": "[encoded data removed]"
     },
     "metadata": {},
     "output_type": "display_data"
    }
   ],
   "execution_count": 18
  },
  {
   "metadata": {
    "ExecuteTime": {
     "end_time": "2025-06-17T16:06:41.379769Z",
     "start_time": "2025-06-17T16:06:41.363417Z"
    }
   },
   "cell_type": "code",
   "source": [
    "#Evaluating the cluster performance\n",
    "print(silhouette_score(features,df['Cluster']))"
   ],
   "id": "e478e8097ac1ff3e",
   "outputs": [
    {
     "name": "stdout",
     "output_type": "stream",
     "text": [
      "0.36846369703368004\n"
     ]
    }
   ],
   "execution_count": 19
  },
  {
   "metadata": {
    "ExecuteTime": {
     "end_time": "2025-06-17T16:07:35.778788Z",
     "start_time": "2025-06-17T16:07:35.766520Z"
    }
   },
   "cell_type": "code",
   "source": [
    "import pickle\n",
    "pickle.dump(kmeans, open('kmeans.pkl', 'wb'))"
   ],
   "id": "9b9e99e26ba8537c",
   "outputs": [],
   "execution_count": 20
  },
  {
   "metadata": {
    "ExecuteTime": {
     "end_time": "2025-06-17T16:07:43.073498Z",
     "start_time": "2025-06-17T16:07:43.052046Z"
    }
   },
   "cell_type": "code",
   "source": "kmeas=pickle.load(open('kmeans.pkl', 'rb'))",
   "id": "b797a93a92c413e7",
   "outputs": [],
   "execution_count": 21
  },
  {
   "metadata": {
    "ExecuteTime": {
     "end_time": "2025-06-17T16:15:30.013751Z",
     "start_time": "2025-06-17T16:15:30.005659Z"
    }
   },
   "cell_type": "code",
   "source": [
    "#Predict the cluster of a new Customer\n",
    "def clustering(age,avg_spend,visit_per_week,promotion_intrest):\n",
    "    new_customer=np.array([[age,avg_spend,visit_per_week,promotion_intrest]])\n",
    "    predicted_cluster=kmeans.predict(new_customer)\n",
    "\n",
    "    if predicted_cluster==0:\n",
    "        return 'Daily'\n",
    "    elif predicted_cluster==1:\n",
    "        return 'Weekend'\n",
    "    else:\n",
    "        return 'Promotion'\n"
   ],
   "id": "a3c1f1bf162a6646",
   "outputs": [],
   "execution_count": 27
  },
  {
   "metadata": {
    "ExecuteTime": {
     "end_time": "2025-06-17T16:15:33.537482Z",
     "start_time": "2025-06-17T16:15:33.486976Z"
    }
   },
   "cell_type": "code",
   "source": [
    "#new customer\n",
    "age=41\n",
    "avg_spend=30\n",
    "visit_per_week=4\n",
    "promotion_intrest=7\n",
    "\n",
    "predicted_result=clustering(age,avg_spend,visit_per_week,promotion_intrest)\n",
    "\n",
    "print(f'New Customer Assigned to cluster: {predicted_result}')"
   ],
   "id": "8f46a1febfc0e1d0",
   "outputs": [
    {
     "name": "stdout",
     "output_type": "stream",
     "text": [
      "New Customer Assigned to cluster: Promotion\n"
     ]
    },
    {
     "name": "stderr",
     "output_type": "stream",
     "text": [
      "C:\\Users\\risha\\PycharmProjects\\PythonProject\\.venv\\Lib\\site-packages\\sklearn\\utils\\validation.py:2739: UserWarning: X does not have valid feature names, but KMeans was fitted with feature names\n",
      "  warnings.warn(\n"
     ]
    }
   ],
   "execution_count": 28
  }
 ],
 "metadata": {
  "kernelspec": {
   "display_name": "Python 3",
   "language": "python",
   "name": "python3"
  },
  "language_info": {
   "codemirror_mode": {
    "name": "ipython",
    "version": 2
   },
   "file_extension": ".py",
   "mimetype": "text/x-python",
   "name": "python",
   "nbconvert_exporter": "python",
   "pygments_lexer": "ipython2",
   "version": "2.7.6"
  }
 },
 "nbformat": 4,
 "nbformat_minor": 5
}
