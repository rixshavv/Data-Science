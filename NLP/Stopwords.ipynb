{
 "cells": [
  {
   "cell_type": "code",
   "id": "initial_id",
   "metadata": {
    "collapsed": true,
    "ExecuteTime": {
     "end_time": "2025-06-04T11:31:31.018895Z",
     "start_time": "2025-06-04T11:31:31.012302Z"
    }
   },
   "source": "#Stopwords- in a paragraph some words like he she the these words are not necessary in determining the output of the text whether it is positive or not",
   "outputs": [],
   "execution_count": 35
  },
  {
   "metadata": {
    "ExecuteTime": {
     "end_time": "2025-06-04T11:31:44.258297Z",
     "start_time": "2025-06-04T11:31:31.042618Z"
    }
   },
   "cell_type": "code",
   "source": [
    "import nltk\n",
    "from nltk import word_tokenize\n",
    "from spacy.lang.am.examples import sentences\n",
    "\n",
    "nltk.download('stopwords')\n",
    "from nltk.stem import PorterStemmer\n",
    "from nltk.corpus import stopwords"
   ],
   "id": "a3556f93e5f45d4a",
   "outputs": [
    {
     "name": "stderr",
     "output_type": "stream",
     "text": [
      "[nltk_data] Downloading package stopwords to\n",
      "[nltk_data]     C:\\Users\\risha\\AppData\\Roaming\\nltk_data...\n",
      "[nltk_data]   Package stopwords is already up-to-date!\n"
     ]
    }
   ],
   "execution_count": 36
  },
  {
   "metadata": {
    "ExecuteTime": {
     "end_time": "2025-06-04T11:33:25.375493Z",
     "start_time": "2025-06-04T11:33:21.436418Z"
    }
   },
   "cell_type": "code",
   "source": [
    "stopwords.words('english')\n",
    "nltk.download('averaged_perceptron_tagger_eng')"
   ],
   "id": "8209a9328a6553",
   "outputs": [
    {
     "name": "stderr",
     "output_type": "stream",
     "text": [
      "[nltk_data] Downloading package averaged_perceptron_tagger_eng to\n",
      "[nltk_data]     C:\\Users\\risha\\AppData\\Roaming\\nltk_data...\n",
      "[nltk_data]   Unzipping taggers\\averaged_perceptron_tagger_eng.zip.\n"
     ]
    },
    {
     "data": {
      "text/plain": [
       "True"
      ]
     },
     "execution_count": 46,
     "metadata": {},
     "output_type": "execute_result"
    }
   ],
   "execution_count": 46
  },
  {
   "metadata": {
    "ExecuteTime": {
     "end_time": "2025-06-04T11:31:44.831491Z",
     "start_time": "2025-06-04T11:31:44.824492Z"
    }
   },
   "cell_type": "code",
   "source": [
    "from nltk.stem import PorterStemmer\n",
    "\n",
    "stemmer = PorterStemmer()\n",
    "\n",
    "speech=' Speech is the use of the human voice as a medium for language. Spoken language combines vowel and consonant sounds to form units of meaning like words, which belong to a languages lexicon. There are many different intentional speech acts, such as informing, declaring, asking, persuading, directing; acts may vary in various aspects like enunciation, intonation, loudness, and tempo to convey meaning. Individuals may also unintentionally communicate aspects of their social position through speech, such as sex, age, place of origin, physiological and mental condition, education, and experiences.'\n",
    "\n"
   ],
   "id": "600387e78ea38519",
   "outputs": [],
   "execution_count": 38
  },
  {
   "metadata": {
    "ExecuteTime": {
     "end_time": "2025-06-04T11:31:44.894011Z",
     "start_time": "2025-06-04T11:31:44.889033Z"
    }
   },
   "cell_type": "code",
   "source": [
    "sentences=nltk.sent_tokenize(speech)\n",
    "sentences2=nltk.sent_tokenize(speech)"
   ],
   "id": "e1d437fe02e21469",
   "outputs": [],
   "execution_count": 39
  },
  {
   "metadata": {
    "ExecuteTime": {
     "end_time": "2025-06-04T11:31:44.998101Z",
     "start_time": "2025-06-04T11:31:44.930343Z"
    }
   },
   "cell_type": "code",
   "source": [
    "##Apply stopwords and filter and then apply stemming\n",
    "\n",
    "for i in range (len(sentences)):\n",
    "    words=nltk.word_tokenize(sentences[i])\n",
    "    words=[stemmer.stem(word) for word in words if word not in set(stopwords.words('english'))] #using sets as some words might be repeated\n",
    "    sentences[i]=' '.join(words)# converting all words to sentences\n"
   ],
   "id": "c7cb96c2a76eb466",
   "outputs": [],
   "execution_count": 40
  },
  {
   "metadata": {
    "ExecuteTime": {
     "end_time": "2025-06-04T11:31:45.027238Z",
     "start_time": "2025-06-04T11:31:45.017885Z"
    }
   },
   "cell_type": "code",
   "source": "sentences",
   "id": "c773d97771ac58d4",
   "outputs": [
    {
     "data": {
      "text/plain": [
       "['speech use human voic medium languag .',\n",
       " 'spoken languag combin vowel conson sound form unit mean like word , belong languag lexicon .',\n",
       " 'there mani differ intent speech act , inform , declar , ask , persuad , direct ; act may vari variou aspect like enunci , inton , loud , tempo convey mean .',\n",
       " 'individu may also unintent commun aspect social posit speech , sex , age , place origin , physiolog mental condit , educ , experi .']"
      ]
     },
     "execution_count": 41,
     "metadata": {},
     "output_type": "execute_result"
    }
   ],
   "execution_count": 41
  },
  {
   "metadata": {
    "ExecuteTime": {
     "end_time": "2025-06-04T11:31:45.132677Z",
     "start_time": "2025-06-04T11:31:45.068682Z"
    }
   },
   "cell_type": "code",
   "source": [
    "from nltk.stem import WordNetLemmatizer\n",
    "lemmatizer=WordNetLemmatizer()\n",
    "\n",
    "for i in range (len(sentences2)):\n",
    "    words=nltk.word_tokenize(sentences2[i])\n",
    "    words=[lemmatizer.lemmatize(word.lower(),pos='v') for word in words if word not in set(stopwords.words('english'))]\n",
    "\n",
    "sentences2[i]=' '.join(words)\n"
   ],
   "id": "5e0f98988d360d1d",
   "outputs": [],
   "execution_count": 42
  },
  {
   "metadata": {
    "ExecuteTime": {
     "end_time": "2025-06-04T11:31:45.161651Z",
     "start_time": "2025-06-04T11:31:45.154219Z"
    }
   },
   "cell_type": "code",
   "source": "sentences2",
   "id": "2332fbd1e379c13",
   "outputs": [
    {
     "data": {
      "text/plain": [
       "[' Speech is the use of the human voice as a medium for language.',\n",
       " 'Spoken language combines vowel and consonant sounds to form units of meaning like words, which belong to a languages lexicon.',\n",
       " 'There are many different intentional speech acts, such as informing, declaring, asking, persuading, directing; acts may vary in various aspects like enunciation, intonation, loudness, and tempo to convey meaning.',\n",
       " 'individuals may also unintentionally communicate aspects social position speech , sex , age , place origin , physiological mental condition , education , experience .']"
      ]
     },
     "execution_count": 43,
     "metadata": {},
     "output_type": "execute_result"
    }
   ],
   "execution_count": 43
  },
  {
   "metadata": {
    "ExecuteTime": {
     "end_time": "2025-06-04T11:33:32.089491Z",
     "start_time": "2025-06-04T11:33:31.777101Z"
    }
   },
   "cell_type": "code",
   "source": [
    "#finding pos tags\n",
    "for i in range (len(sentences2)):\n",
    "    words=nltk.word_tokenize(sentences2[i])\n",
    "    words=[word for word in words if word not in set(stopwords.words('english'))]\n",
    "    pos_tag=nltk.pos_tag(words)\n",
    "    print(pos_tag)"
   ],
   "id": "d830cf9d0e543b6a",
   "outputs": [
    {
     "name": "stdout",
     "output_type": "stream",
     "text": [
      "[('Speech', 'NNP'), ('use', 'NN'), ('human', 'JJ'), ('voice', 'NN'), ('medium', 'NN'), ('language', 'NN'), ('.', '.')]\n",
      "[('Spoken', 'NNP'), ('language', 'NN'), ('combines', 'NNS'), ('vowel', 'VBP'), ('consonant', 'JJ'), ('sounds', 'NNS'), ('form', 'JJ'), ('units', 'NNS'), ('meaning', 'VBG'), ('like', 'IN'), ('words', 'NNS'), (',', ','), ('belong', 'JJ'), ('languages', 'NNS'), ('lexicon', 'VBP'), ('.', '.')]\n",
      "[('There', 'EX'), ('many', 'JJ'), ('different', 'JJ'), ('intentional', 'JJ'), ('speech', 'NN'), ('acts', 'NNS'), (',', ','), ('informing', 'VBG'), (',', ','), ('declaring', 'VBG'), (',', ','), ('asking', 'VBG'), (',', ','), ('persuading', 'VBG'), (',', ','), ('directing', 'VBG'), (';', ':'), ('acts', 'NNS'), ('may', 'MD'), ('vary', 'VB'), ('various', 'JJ'), ('aspects', 'NNS'), ('like', 'IN'), ('enunciation', 'NN'), (',', ','), ('intonation', 'NN'), (',', ','), ('loudness', 'NN'), (',', ','), ('tempo', 'JJ'), ('convey', 'NN'), ('meaning', 'NN'), ('.', '.')]\n",
      "[('individuals', 'NNS'), ('may', 'MD'), ('also', 'RB'), ('unintentionally', 'RB'), ('communicate', 'JJ'), ('aspects', 'NNS'), ('social', 'JJ'), ('position', 'NN'), ('speech', 'NN'), (',', ','), ('sex', 'NN'), (',', ','), ('age', 'NN'), (',', ','), ('place', 'NN'), ('origin', 'NN'), (',', ','), ('physiological', 'JJ'), ('mental', 'JJ'), ('condition', 'NN'), (',', ','), ('education', 'NN'), (',', ','), ('experience', 'NN'), ('.', '.')]\n"
     ]
    }
   ],
   "execution_count": 47
  },
  {
   "metadata": {
    "ExecuteTime": {
     "end_time": "2025-06-04T11:42:53.026807Z",
     "start_time": "2025-06-04T11:42:53.010916Z"
    }
   },
   "cell_type": "code",
   "source": [
    "sentence3=\"Taj Mahal is a beautiful Monument. \"\n",
    "sentence4=nltk.word_tokenize(sentence3)\n",
    "for i in range (len(sentence4)):\n",
    "    words=nltk.word_tokenize(sentence4[i])\n",
    "    words=[word for word in words if word not in set(stopwords.words('english'))]\n",
    "    pos_tag=nltk.pos_tag(words)\n",
    "    print(pos_tag)\n",
    "\n",
    "    #print(nltk.pos_tag(\"sentence\".split())\n"
   ],
   "id": "236e3caeb30c2f07",
   "outputs": [
    {
     "name": "stdout",
     "output_type": "stream",
     "text": [
      "[('Taj', 'NN')]\n",
      "[('Mahal', 'NN')]\n",
      "[]\n",
      "[]\n",
      "[('beautiful', 'NN')]\n",
      "[('Monument', 'NN')]\n",
      "[('.', '.')]\n"
     ]
    }
   ],
   "execution_count": 50
  }
 ],
 "metadata": {
  "kernelspec": {
   "display_name": "Python 3",
   "language": "python",
   "name": "python3"
  },
  "language_info": {
   "codemirror_mode": {
    "name": "ipython",
    "version": 2
   },
   "file_extension": ".py",
   "mimetype": "text/x-python",
   "name": "python",
   "nbconvert_exporter": "python",
   "pygments_lexer": "ipython2",
   "version": "2.7.6"
  }
 },
 "nbformat": 4,
 "nbformat_minor": 5
}
