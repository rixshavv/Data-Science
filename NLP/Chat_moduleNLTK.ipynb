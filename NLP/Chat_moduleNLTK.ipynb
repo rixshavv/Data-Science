{
 "cells": [
  {
   "cell_type": "code",
   "id": "initial_id",
   "metadata": {
    "collapsed": true
   },
   "source": [
    "# Import Chat and reflections\n",
    "from nltk.chat.util import Chat, reflections\n",
    "\n",
    "# 1️⃣ Define pattern-response pairs\n",
    "pairs = [\n",
    "    [\n",
    "        r\"hi|hello|hey\",\n",
    "        [\"Hello!\", \"Hi there!\", \"Hey!\"]\n",
    "    ],\n",
    "    [\n",
    "        r\"what is your name ?\",\n",
    "        [\"I am a simple chatbot.\", \"You can call me Chatty!\"]\n",
    "    ],\n",
    "    [\n",
    "        r\"how are you ?\",\n",
    "        [\"I'm doing well, thank you!\", \"I'm fine, and you?\"]\n",
    "    ],\n",
    "    [\n",
    "        r\"sorry (.*)\",\n",
    "        [\"It's okay, no worries!\"]\n",
    "    ],\n",
    "    [\n",
    "        r\"quit\",\n",
    "        [\"Bye! Have a nice day.\", \"Goodbye!\"]\n",
    "    ],\n",
    "]\n",
    "\n",
    "# 2️⃣ Create a Chat object\n",
    "chatbot = Chat(pairs, reflections)\n",
    "\n",
    "# 3️⃣ Start chatting\n",
    "chatbot.converse()\n"
   ],
   "outputs": [],
   "execution_count": null
  }
 ],
 "metadata": {
  "kernelspec": {
   "display_name": "Python 3",
   "language": "python",
   "name": "python3"
  },
  "language_info": {
   "codemirror_mode": {
    "name": "ipython",
    "version": 2
   },
   "file_extension": ".py",
   "mimetype": "text/x-python",
   "name": "python",
   "nbconvert_exporter": "python",
   "pygments_lexer": "ipython2",
   "version": "2.7.6"
  }
 },
 "nbformat": 4,
 "nbformat_minor": 5
}
