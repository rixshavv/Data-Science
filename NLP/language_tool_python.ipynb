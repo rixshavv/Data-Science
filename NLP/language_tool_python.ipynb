{
 "cells": [
  {
   "cell_type": "code",
   "id": "initial_id",
   "metadata": {
    "collapsed": true,
    "ExecuteTime": {
     "end_time": "2025-06-21T12:21:10.848289Z",
     "start_time": "2025-06-21T12:21:05.722326Z"
    }
   },
   "source": [
    "import language_tool_python #importing library\n",
    "\n",
    "tool=language_tool_python.LanguageTool(language=\"en\") #setting the language\n",
    "text=\"I are a good boy.\"\n",
    "matches=tool.check(text) #it will check for errors and save it in a list\n",
    "\n",
    "for match in matches:\n",
    "    print(match.message,\"->\",match.replacements)\n",
    "\n",
    "corrected_text=tool.correct(text)\n",
    "print(\"Corrected:\",corrected_text) #gives the corrected text using most suited guess from the list\n",
    "\n",
    "\n",
    "# language_tool_python works offline (after downloading the model).\n",
    "#\n",
    "# Checks spelling, grammar, style, agreement, etc.\n",
    "#\n",
    "# Good for proofing emails, assignments, or NLP preprocessing"
   ],
   "outputs": [
    {
     "name": "stdout",
     "output_type": "stream",
     "text": [
      "Did you mean “am” or “ate”? -> ['am', 'ate']\n",
      "Corrected: I am a good boy.\n"
     ]
    }
   ],
   "execution_count": 2
  }
 ],
 "metadata": {
  "kernelspec": {
   "display_name": "Python 3",
   "language": "python",
   "name": "python3"
  },
  "language_info": {
   "codemirror_mode": {
    "name": "ipython",
    "version": 2
   },
   "file_extension": ".py",
   "mimetype": "text/x-python",
   "name": "python",
   "nbconvert_exporter": "python",
   "pygments_lexer": "ipython2",
   "version": "2.7.6"
  }
 },
 "nbformat": 4,
 "nbformat_minor": 5
}
