{
 "cells": [
  {
   "cell_type": "code",
   "id": "initial_id",
   "metadata": {
    "collapsed": true,
    "ExecuteTime": {
     "end_time": "2025-06-21T12:21:10.848289Z",
     "start_time": "2025-06-21T12:21:05.722326Z"
    }
   },
   "source": [
    "import language_tool_python\n",
    "\n",
    "tool=language_tool_python.LanguageTool(language=\"en\")\n",
    "text=\"I are a good boy.\"\n",
    "matches=tool.check(text)\n",
    "\n",
    "for match in matches:\n",
    "    print(match.message,\"->\",match.replacements)\n",
    "\n",
    "corrected_text=tool.correct(text)\n",
    "print(\"Corrected:\",corrected_text)"
   ],
   "outputs": [
    {
     "name": "stdout",
     "output_type": "stream",
     "text": [
      "Did you mean “am” or “ate”? -> ['am', 'ate']\n",
      "Corrected: I am a good boy.\n"
     ]
    }
   ],
   "execution_count": 2
  }
 ],
 "metadata": {
  "kernelspec": {
   "display_name": "Python 3",
   "language": "python",
   "name": "python3"
  },
  "language_info": {
   "codemirror_mode": {
    "name": "ipython",
    "version": 2
   },
   "file_extension": ".py",
   "mimetype": "text/x-python",
   "name": "python",
   "nbconvert_exporter": "python",
   "pygments_lexer": "ipython2",
   "version": "2.7.6"
  }
 },
 "nbformat": 4,
 "nbformat_minor": 5
}
