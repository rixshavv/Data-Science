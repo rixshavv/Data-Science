{
 "cells": [
  {
   "cell_type": "code",
   "id": "initial_id",
   "metadata": {
    "collapsed": true
   },
   "source": [
    "from textblob import TextBlob\n",
    "\n",
    "#Creating object\n",
    "\n",
    "blob=TextBlob(\"I Love you \")\n",
    "\n",
    "try:\n",
    "    translated=blob.translate(to='fr')\n",
    "    print(\"Translated text:\",translated)\n",
    "\n",
    "except Exception as e:\n",
    "    print(\"Translation Failed\",e)"
   ],
   "outputs": [],
   "execution_count": null
  },
  {
   "metadata": {},
   "cell_type": "code",
   "source": [
    "from googletrans import Translator\n",
    "\n",
    "translator = Translator()\n",
    "result = translator.translate(\"I love you\", dest='fr')\n",
    "print(\"Translated text:\", result)\n"
   ],
   "id": "9a8ecd88c90bc7c0",
   "outputs": [],
   "execution_count": null
  },
  {
   "metadata": {},
   "cell_type": "code",
   "source": "",
   "id": "ed946588e15c0161",
   "outputs": [],
   "execution_count": null
  }
 ],
 "metadata": {
  "kernelspec": {
   "display_name": "Python 3",
   "language": "python",
   "name": "python3"
  },
  "language_info": {
   "codemirror_mode": {
    "name": "ipython",
    "version": 2
   },
   "file_extension": ".py",
   "mimetype": "text/x-python",
   "name": "python",
   "nbconvert_exporter": "python",
   "pygments_lexer": "ipython2",
   "version": "2.7.6"
  }
 },
 "nbformat": 4,
 "nbformat_minor": 5
}
