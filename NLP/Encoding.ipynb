{
 "cells": [
  {
   "cell_type": "code",
   "id": "initial_id",
   "metadata": {
    "collapsed": true,
    "ExecuteTime": {
     "end_time": "2025-06-05T11:17:37.849195Z",
     "start_time": "2025-06-05T11:17:37.845058Z"
    }
   },
   "source": [
    "#One hot encoding-0,1 coding\n",
    "#for example --> food is good -->encoded as [[1,0,0],[0,1,0],[0,0,1]] where food is represented as [1,0,0] vector format.."
   ],
   "outputs": [],
   "execution_count": 3
  },
  {
   "metadata": {
    "ExecuteTime": {
     "end_time": "2025-06-05T11:17:37.871667Z",
     "start_time": "2025-06-05T11:17:37.869224Z"
    }
   },
   "cell_type": "code",
   "source": [
    "# #Bag of Words--> used for sentimental analysis\n",
    "# #Here for entire sentence after removing stopwords are converted to vectors\n",
    "#\n",
    "# two bagofWords -Binary(0,1) and Normal(count will be updated according to the frequency)\n"
   ],
   "id": "a879962a8ece85d",
   "outputs": [],
   "execution_count": 4
  },
  {
   "metadata": {
    "ExecuteTime": {
     "end_time": "2025-06-05T11:17:37.887310Z",
     "start_time": "2025-06-05T11:17:37.884114Z"
    }
   },
   "cell_type": "code",
   "source": [
    "# # Word Embedding type- count /frequency and deep learning train model\n",
    "#\n",
    "# #count or frequency:-\n",
    "# #1-OHE,2-BOW,3.TF-IDF\n",
    "#\n",
    "# #Deep learning train model:-\n",
    "# WordtoVec:\n",
    "# 1.CBOW\n",
    "# 2.Skipgram\n"
   ],
   "id": "e04d4988bae059a0",
   "outputs": [],
   "execution_count": 5
  },
  {
   "metadata": {
    "ExecuteTime": {
     "end_time": "2025-06-05T11:17:37.899973Z",
     "start_time": "2025-06-05T11:17:37.896798Z"
    }
   },
   "cell_type": "code",
   "source": "#WordtoVec-by google ,uses a neural network to learn word association from a large corpus of text.",
   "id": "fd8e3351aa901c96",
   "outputs": [],
   "execution_count": 6
  },
  {
   "metadata": {
    "ExecuteTime": {
     "end_time": "2025-06-05T11:17:38.581251Z",
     "start_time": "2025-06-05T11:17:37.910579Z"
    }
   },
   "cell_type": "code",
   "source": "import gensim",
   "id": "f035b7791b68f237",
   "outputs": [],
   "execution_count": 7
  },
  {
   "metadata": {
    "ExecuteTime": {
     "end_time": "2025-06-05T11:17:38.593955Z",
     "start_time": "2025-06-05T11:17:38.590980Z"
    }
   },
   "cell_type": "code",
   "source": "from gensim.models import Word2Vec,KeyedVectors",
   "id": "8c88d710e0649e2d",
   "outputs": [],
   "execution_count": 8
  },
  {
   "metadata": {
    "ExecuteTime": {
     "end_time": "2025-06-05T11:20:26.303061Z",
     "start_time": "2025-06-05T11:19:20.129842Z"
    }
   },
   "cell_type": "code",
   "source": [
    "import gensim.downloader as api\n",
    "wv=api.load('word2vec-google-news-300')\n",
    "vec_king=wv['king']  #show the vector for king\n",
    "\n",
    "wv.most_similar([vec_king]) "
   ],
   "id": "97784aeaa95a42b4",
   "outputs": [
    {
     "name": "stdout",
     "output_type": "stream",
     "text": [
      "[--------------------------------------------------] 0.1% 2.1/1662.8MB downloaded"
     ]
    },
    {
     "ename": "KeyboardInterrupt",
     "evalue": "",
     "output_type": "error",
     "traceback": [
      "\u001B[31m---------------------------------------------------------------------------\u001B[39m",
      "\u001B[31mKeyboardInterrupt\u001B[39m                         Traceback (most recent call last)",
      "\u001B[36mCell\u001B[39m\u001B[36m \u001B[39m\u001B[32mIn[10]\u001B[39m\u001B[32m, line 2\u001B[39m\n\u001B[32m      1\u001B[39m \u001B[38;5;28;01mimport\u001B[39;00m\u001B[38;5;250m \u001B[39m\u001B[34;01mgensim\u001B[39;00m\u001B[34;01m.\u001B[39;00m\u001B[34;01mdownloader\u001B[39;00m\u001B[38;5;250m \u001B[39m\u001B[38;5;28;01mas\u001B[39;00m\u001B[38;5;250m \u001B[39m\u001B[34;01mapi\u001B[39;00m\n\u001B[32m----> \u001B[39m\u001B[32m2\u001B[39m wv=\u001B[43mapi\u001B[49m\u001B[43m.\u001B[49m\u001B[43mload\u001B[49m\u001B[43m(\u001B[49m\u001B[33;43m'\u001B[39;49m\u001B[33;43mword2vec-google-news-300\u001B[39;49m\u001B[33;43m'\u001B[39;49m\u001B[43m)\u001B[49m\n\u001B[32m      3\u001B[39m vec_king=wv[\u001B[33m'\u001B[39m\u001B[33mking\u001B[39m\u001B[33m'\u001B[39m]\n",
      "\u001B[36mFile \u001B[39m\u001B[32m~\\PycharmProjects\\PythonProject\\.venv\\Lib\\site-packages\\gensim\\downloader.py:496\u001B[39m, in \u001B[36mload\u001B[39m\u001B[34m(name, return_path)\u001B[39m\n\u001B[32m    494\u001B[39m path = os.path.join(folder_dir, file_name)\n\u001B[32m    495\u001B[39m \u001B[38;5;28;01mif\u001B[39;00m \u001B[38;5;129;01mnot\u001B[39;00m os.path.exists(folder_dir):\n\u001B[32m--> \u001B[39m\u001B[32m496\u001B[39m     \u001B[43m_download\u001B[49m\u001B[43m(\u001B[49m\u001B[43mname\u001B[49m\u001B[43m)\u001B[49m\n\u001B[32m    498\u001B[39m \u001B[38;5;28;01mif\u001B[39;00m return_path:\n\u001B[32m    499\u001B[39m     \u001B[38;5;28;01mreturn\u001B[39;00m path\n",
      "\u001B[36mFile \u001B[39m\u001B[32m~\\PycharmProjects\\PythonProject\\.venv\\Lib\\site-packages\\gensim\\downloader.py:396\u001B[39m, in \u001B[36m_download\u001B[39m\u001B[34m(name)\u001B[39m\n\u001B[32m    394\u001B[39m fname = \u001B[33m\"\u001B[39m\u001B[38;5;132;01m{fname}\u001B[39;00m\u001B[33m.gz\u001B[39m\u001B[33m\"\u001B[39m.format(fname=name)\n\u001B[32m    395\u001B[39m dst_path = os.path.join(tmp_dir, fname)\n\u001B[32m--> \u001B[39m\u001B[32m396\u001B[39m \u001B[43murllib\u001B[49m\u001B[43m.\u001B[49m\u001B[43murlretrieve\u001B[49m\u001B[43m(\u001B[49m\u001B[43murl_data\u001B[49m\u001B[43m,\u001B[49m\u001B[43m \u001B[49m\u001B[43mdst_path\u001B[49m\u001B[43m,\u001B[49m\u001B[43m \u001B[49m\u001B[43mreporthook\u001B[49m\u001B[43m=\u001B[49m\u001B[43m_progress\u001B[49m\u001B[43m)\u001B[49m\n\u001B[32m    397\u001B[39m \u001B[38;5;28;01mif\u001B[39;00m _calculate_md5_checksum(dst_path) == _get_checksum(name):\n\u001B[32m    398\u001B[39m     sys.stdout.write(\u001B[33m\"\u001B[39m\u001B[38;5;130;01m\\n\u001B[39;00m\u001B[33m\"\u001B[39m)\n",
      "\u001B[36mFile \u001B[39m\u001B[32mC:\\Program Files\\WindowsApps\\PythonSoftwareFoundation.Python.3.11_3.11.2544.0_x64__qbz5n2kfra8p0\\Lib\\urllib\\request.py:270\u001B[39m, in \u001B[36murlretrieve\u001B[39m\u001B[34m(url, filename, reporthook, data)\u001B[39m\n\u001B[32m    267\u001B[39m     reporthook(blocknum, bs, size)\n\u001B[32m    269\u001B[39m \u001B[38;5;28;01mwhile\u001B[39;00m \u001B[38;5;28;01mTrue\u001B[39;00m:\n\u001B[32m--> \u001B[39m\u001B[32m270\u001B[39m     block = \u001B[43mfp\u001B[49m\u001B[43m.\u001B[49m\u001B[43mread\u001B[49m\u001B[43m(\u001B[49m\u001B[43mbs\u001B[49m\u001B[43m)\u001B[49m\n\u001B[32m    271\u001B[39m     \u001B[38;5;28;01mif\u001B[39;00m \u001B[38;5;129;01mnot\u001B[39;00m block:\n\u001B[32m    272\u001B[39m         \u001B[38;5;28;01mbreak\u001B[39;00m\n",
      "\u001B[36mFile \u001B[39m\u001B[32mC:\\Program Files\\WindowsApps\\PythonSoftwareFoundation.Python.3.11_3.11.2544.0_x64__qbz5n2kfra8p0\\Lib\\http\\client.py:473\u001B[39m, in \u001B[36mHTTPResponse.read\u001B[39m\u001B[34m(self, amt)\u001B[39m\n\u001B[32m    470\u001B[39m \u001B[38;5;28;01mif\u001B[39;00m \u001B[38;5;28mself\u001B[39m.length \u001B[38;5;129;01mis\u001B[39;00m \u001B[38;5;129;01mnot\u001B[39;00m \u001B[38;5;28;01mNone\u001B[39;00m \u001B[38;5;129;01mand\u001B[39;00m amt > \u001B[38;5;28mself\u001B[39m.length:\n\u001B[32m    471\u001B[39m     \u001B[38;5;66;03m# clip the read to the \"end of response\"\u001B[39;00m\n\u001B[32m    472\u001B[39m     amt = \u001B[38;5;28mself\u001B[39m.length\n\u001B[32m--> \u001B[39m\u001B[32m473\u001B[39m s = \u001B[38;5;28mself\u001B[39m.fp.read(amt)\n\u001B[32m    474\u001B[39m \u001B[38;5;28;01mif\u001B[39;00m \u001B[38;5;129;01mnot\u001B[39;00m s \u001B[38;5;129;01mand\u001B[39;00m amt:\n\u001B[32m    475\u001B[39m     \u001B[38;5;66;03m# Ideally, we would raise IncompleteRead if the content-length\u001B[39;00m\n\u001B[32m    476\u001B[39m     \u001B[38;5;66;03m# wasn't satisfied, but it might break compatibility.\u001B[39;00m\n\u001B[32m    477\u001B[39m     \u001B[38;5;28mself\u001B[39m._close_conn()\n",
      "\u001B[36mFile \u001B[39m\u001B[32mC:\\Program Files\\WindowsApps\\PythonSoftwareFoundation.Python.3.11_3.11.2544.0_x64__qbz5n2kfra8p0\\Lib\\socket.py:706\u001B[39m, in \u001B[36mSocketIO.readinto\u001B[39m\u001B[34m(self, b)\u001B[39m\n\u001B[32m    704\u001B[39m \u001B[38;5;28;01mwhile\u001B[39;00m \u001B[38;5;28;01mTrue\u001B[39;00m:\n\u001B[32m    705\u001B[39m     \u001B[38;5;28;01mtry\u001B[39;00m:\n\u001B[32m--> \u001B[39m\u001B[32m706\u001B[39m         \u001B[38;5;28;01mreturn\u001B[39;00m \u001B[38;5;28;43mself\u001B[39;49m\u001B[43m.\u001B[49m\u001B[43m_sock\u001B[49m\u001B[43m.\u001B[49m\u001B[43mrecv_into\u001B[49m\u001B[43m(\u001B[49m\u001B[43mb\u001B[49m\u001B[43m)\u001B[49m\n\u001B[32m    707\u001B[39m     \u001B[38;5;28;01mexcept\u001B[39;00m timeout:\n\u001B[32m    708\u001B[39m         \u001B[38;5;28mself\u001B[39m._timeout_occurred = \u001B[38;5;28;01mTrue\u001B[39;00m\n",
      "\u001B[36mFile \u001B[39m\u001B[32mC:\\Program Files\\WindowsApps\\PythonSoftwareFoundation.Python.3.11_3.11.2544.0_x64__qbz5n2kfra8p0\\Lib\\ssl.py:1314\u001B[39m, in \u001B[36mSSLSocket.recv_into\u001B[39m\u001B[34m(self, buffer, nbytes, flags)\u001B[39m\n\u001B[32m   1310\u001B[39m     \u001B[38;5;28;01mif\u001B[39;00m flags != \u001B[32m0\u001B[39m:\n\u001B[32m   1311\u001B[39m         \u001B[38;5;28;01mraise\u001B[39;00m \u001B[38;5;167;01mValueError\u001B[39;00m(\n\u001B[32m   1312\u001B[39m           \u001B[33m\"\u001B[39m\u001B[33mnon-zero flags not allowed in calls to recv_into() on \u001B[39m\u001B[38;5;132;01m%s\u001B[39;00m\u001B[33m\"\u001B[39m %\n\u001B[32m   1313\u001B[39m           \u001B[38;5;28mself\u001B[39m.\u001B[34m__class__\u001B[39m)\n\u001B[32m-> \u001B[39m\u001B[32m1314\u001B[39m     \u001B[38;5;28;01mreturn\u001B[39;00m \u001B[38;5;28;43mself\u001B[39;49m\u001B[43m.\u001B[49m\u001B[43mread\u001B[49m\u001B[43m(\u001B[49m\u001B[43mnbytes\u001B[49m\u001B[43m,\u001B[49m\u001B[43m \u001B[49m\u001B[43mbuffer\u001B[49m\u001B[43m)\u001B[49m\n\u001B[32m   1315\u001B[39m \u001B[38;5;28;01melse\u001B[39;00m:\n\u001B[32m   1316\u001B[39m     \u001B[38;5;28;01mreturn\u001B[39;00m \u001B[38;5;28msuper\u001B[39m().recv_into(buffer, nbytes, flags)\n",
      "\u001B[36mFile \u001B[39m\u001B[32mC:\\Program Files\\WindowsApps\\PythonSoftwareFoundation.Python.3.11_3.11.2544.0_x64__qbz5n2kfra8p0\\Lib\\ssl.py:1166\u001B[39m, in \u001B[36mSSLSocket.read\u001B[39m\u001B[34m(self, len, buffer)\u001B[39m\n\u001B[32m   1164\u001B[39m \u001B[38;5;28;01mtry\u001B[39;00m:\n\u001B[32m   1165\u001B[39m     \u001B[38;5;28;01mif\u001B[39;00m buffer \u001B[38;5;129;01mis\u001B[39;00m \u001B[38;5;129;01mnot\u001B[39;00m \u001B[38;5;28;01mNone\u001B[39;00m:\n\u001B[32m-> \u001B[39m\u001B[32m1166\u001B[39m         \u001B[38;5;28;01mreturn\u001B[39;00m \u001B[38;5;28;43mself\u001B[39;49m\u001B[43m.\u001B[49m\u001B[43m_sslobj\u001B[49m\u001B[43m.\u001B[49m\u001B[43mread\u001B[49m\u001B[43m(\u001B[49m\u001B[38;5;28;43mlen\u001B[39;49m\u001B[43m,\u001B[49m\u001B[43m \u001B[49m\u001B[43mbuffer\u001B[49m\u001B[43m)\u001B[49m\n\u001B[32m   1167\u001B[39m     \u001B[38;5;28;01melse\u001B[39;00m:\n\u001B[32m   1168\u001B[39m         \u001B[38;5;28;01mreturn\u001B[39;00m \u001B[38;5;28mself\u001B[39m._sslobj.read(\u001B[38;5;28mlen\u001B[39m)\n",
      "\u001B[31mKeyboardInterrupt\u001B[39m: "
     ]
    }
   ],
   "execution_count": 10
  }
 ],
 "metadata": {
  "kernelspec": {
   "display_name": "Python 3",
   "language": "python",
   "name": "python3"
  },
  "language_info": {
   "codemirror_mode": {
    "name": "ipython",
    "version": 2
   },
   "file_extension": ".py",
   "mimetype": "text/x-python",
   "name": "python",
   "nbconvert_exporter": "python",
   "pygments_lexer": "ipython2",
   "version": "2.7.6"
  }
 },
 "nbformat": 4,
 "nbformat_minor": 5
}
