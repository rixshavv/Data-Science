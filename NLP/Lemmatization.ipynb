{
 "cells": [
  {
   "cell_type": "code",
   "id": "initial_id",
   "metadata": {
    "collapsed": true,
    "ExecuteTime": {
     "end_time": "2025-06-04T10:17:27.245904Z",
     "start_time": "2025-06-04T10:17:03.953332Z"
    }
   },
   "source": [
    "#lemmatization is the stemming process and lemma is the root word.\n",
    "import nltk\n",
    "nltk.download('wordnet')\n"
   ],
   "outputs": [
    {
     "name": "stderr",
     "output_type": "stream",
     "text": [
      "[nltk_data] Downloading package wordnet to\n",
      "[nltk_data]     C:\\Users\\risha\\AppData\\Roaming\\nltk_data...\n"
     ]
    },
    {
     "data": {
      "text/plain": [
       "True"
      ]
     },
     "execution_count": 4,
     "metadata": {},
     "output_type": "execute_result"
    }
   ],
   "execution_count": 4
  },
  {
   "metadata": {
    "ExecuteTime": {
     "end_time": "2025-06-04T10:24:40.789908Z",
     "start_time": "2025-06-04T10:24:40.782555Z"
    }
   },
   "cell_type": "code",
   "source": [
    "\n",
    "from nltk.stem import WordNetLemmatizer\n",
    "\n",
    "lemmatizer = WordNetLemmatizer()\n",
    "\n",
    "words=[\"eating\",\"eats\",\"eaten\",\"writes\",\"written\",\"programming\",\"programs\",\"history\"]\n",
    "for word in words:\n",
    "   print(lemmatizer.lemmatize(word,pos='v'))"
   ],
   "id": "ef0443a01edb6d9d",
   "outputs": [
    {
     "name": "stdout",
     "output_type": "stream",
     "text": [
      "eat\n",
      "eat\n",
      "eat\n",
      "write\n",
      "write\n",
      "program\n",
      "program\n",
      "history\n"
     ]
    }
   ],
   "execution_count": 12
  },
  {
   "metadata": {
    "ExecuteTime": {
     "end_time": "2025-06-04T10:23:01.002946Z",
     "start_time": "2025-06-04T10:23:00.993490Z"
    }
   },
   "cell_type": "code",
   "source": [
    "\"\"\" Pos tags\n",
    "Noun-n\n",
    "adverb-r\n",
    "adjective-a\n",
    "verb-v\"\"\"\n",
    "\n",
    "lemmatizer.lemmatize(\"going\",pos='v')"
   ],
   "id": "45b3daff0df5564d",
   "outputs": [
    {
     "data": {
      "text/plain": [
       "'go'"
      ]
     },
     "execution_count": 11,
     "metadata": {},
     "output_type": "execute_result"
    }
   ],
   "execution_count": 11
  },
  {
   "metadata": {
    "ExecuteTime": {
     "end_time": "2025-06-04T10:25:41.712482Z",
     "start_time": "2025-06-04T10:25:41.700457Z"
    }
   },
   "cell_type": "code",
   "source": "lemmatizer.lemmatize(\"sportingly\")",
   "id": "25e5f13a0a290d1f",
   "outputs": [
    {
     "data": {
      "text/plain": [
       "'sportingly'"
      ]
     },
     "execution_count": 15,
     "metadata": {},
     "output_type": "execute_result"
    }
   ],
   "execution_count": 15
  }
 ],
 "metadata": {
  "kernelspec": {
   "display_name": "Python 3",
   "language": "python",
   "name": "python3"
  },
  "language_info": {
   "codemirror_mode": {
    "name": "ipython",
    "version": 2
   },
   "file_extension": ".py",
   "mimetype": "text/x-python",
   "name": "python",
   "nbconvert_exporter": "python",
   "pygments_lexer": "ipython2",
   "version": "2.7.6"
  }
 },
 "nbformat": 4,
 "nbformat_minor": 5
}
