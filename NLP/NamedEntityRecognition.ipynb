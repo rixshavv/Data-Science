{
 "cells": [
  {
   "metadata": {},
   "cell_type": "code",
   "source": "#NER",
   "id": "cd108ba18ed3ae39",
   "outputs": [],
   "execution_count": null
  },
  {
   "metadata": {},
   "cell_type": "code",
   "source": "sentence=\"Apple Inc. was founded by Steve Jobs in Cupertino, California, in 1976.\"",
   "id": "initial_id",
   "outputs": [],
   "execution_count": null
  },
  {
   "metadata": {},
   "cell_type": "code",
   "source": [
    "import nltk\n",
    "nltk.download('maxent_ne_chunker_tab')\n",
    "words=nltk.word_tokenize(sentence)"
   ],
   "id": "6e98b36af3c5eb93",
   "outputs": [],
   "execution_count": null
  },
  {
   "metadata": {},
   "cell_type": "code",
   "source": "tagged_elements=nltk.pos_tag(words)",
   "id": "1b6e9abc1ff84a28",
   "outputs": [],
   "execution_count": null
  },
  {
   "metadata": {},
   "cell_type": "code",
   "source": [
    "nltk.download('words')\n",
    "nltk.ne_chunk(tagged_elements)"
   ],
   "id": "9675068f7707c187",
   "outputs": [],
   "execution_count": null
  }
 ],
 "metadata": {
  "kernelspec": {
   "display_name": "Python 3",
   "language": "python",
   "name": "python3"
  },
  "language_info": {
   "codemirror_mode": {
    "name": "ipython",
    "version": 2
   },
   "file_extension": ".py",
   "mimetype": "text/x-python",
   "name": "python",
   "nbconvert_exporter": "python",
   "pygments_lexer": "ipython2",
   "version": "2.7.6"
  }
 },
 "nbformat": 4,
 "nbformat_minor": 5
}
