{
 "cells": [
  {
   "cell_type": "code",
   "id": "initial_id",
   "metadata": {
    "collapsed": true,
    "ExecuteTime": {
     "end_time": "2025-06-13T16:13:33.689794Z",
     "start_time": "2025-06-13T16:13:33.683489Z"
    }
   },
   "source": [
    "import numpy as np\n",
    "import pandas as pd\n"
   ],
   "outputs": [],
   "execution_count": 3
  },
  {
   "metadata": {
    "ExecuteTime": {
     "end_time": "2025-06-13T16:13:35.897832Z",
     "start_time": "2025-06-13T16:13:33.771262Z"
    }
   },
   "cell_type": "code",
   "source": "df=pd.read_csv(\"C:\\\\Users\\\\risha\\\\PycharmProjects\\\\PythonProject\\\\Assets\\\\creditcard.csv\")",
   "id": "ddcba79318188ccd",
   "outputs": [],
   "execution_count": 4
  },
  {
   "metadata": {
    "ExecuteTime": {
     "end_time": "2025-06-13T16:13:35.974473Z",
     "start_time": "2025-06-13T16:13:35.935389Z"
    }
   },
   "cell_type": "code",
   "source": "df.head()",
   "id": "a0335ec1dc1ca7cd",
   "outputs": [
    {
     "data": {
      "text/plain": [
       "   Time        V1        V2        V3        V4        V5        V6        V7  \\\n",
       "0   0.0 -1.359807 -0.072781  2.536347  1.378155 -0.338321  0.462388  0.239599   \n",
       "1   0.0  1.191857  0.266151  0.166480  0.448154  0.060018 -0.082361 -0.078803   \n",
       "2   1.0 -1.358354 -1.340163  1.773209  0.379780 -0.503198  1.800499  0.791461   \n",
       "3   1.0 -0.966272 -0.185226  1.792993 -0.863291 -0.010309  1.247203  0.237609   \n",
       "4   2.0 -1.158233  0.877737  1.548718  0.403034 -0.407193  0.095921  0.592941   \n",
       "\n",
       "         V8        V9  ...       V21       V22       V23       V24       V25  \\\n",
       "0  0.098698  0.363787  ... -0.018307  0.277838 -0.110474  0.066928  0.128539   \n",
       "1  0.085102 -0.255425  ... -0.225775 -0.638672  0.101288 -0.339846  0.167170   \n",
       "2  0.247676 -1.514654  ...  0.247998  0.771679  0.909412 -0.689281 -0.327642   \n",
       "3  0.377436 -1.387024  ... -0.108300  0.005274 -0.190321 -1.175575  0.647376   \n",
       "4 -0.270533  0.817739  ... -0.009431  0.798278 -0.137458  0.141267 -0.206010   \n",
       "\n",
       "        V26       V27       V28  Amount  Class  \n",
       "0 -0.189115  0.133558 -0.021053  149.62      0  \n",
       "1  0.125895 -0.008983  0.014724    2.69      0  \n",
       "2 -0.139097 -0.055353 -0.059752  378.66      0  \n",
       "3 -0.221929  0.062723  0.061458  123.50      0  \n",
       "4  0.502292  0.219422  0.215153   69.99      0  \n",
       "\n",
       "[5 rows x 31 columns]"
      ],
      "text/html": [
       "<div>\n",
       "<style scoped>\n",
       "    .dataframe tbody tr th:only-of-type {\n",
       "        vertical-align: middle;\n",
       "    }\n",
       "\n",
       "    .dataframe tbody tr th {\n",
       "        vertical-align: top;\n",
       "    }\n",
       "\n",
       "    .dataframe thead th {\n",
       "        text-align: right;\n",
       "    }\n",
       "</style>\n",
       "<table border=\"1\" class=\"dataframe\">\n",
       "  <thead>\n",
       "    <tr style=\"text-align: right;\">\n",
       "      <th></th>\n",
       "      <th>Time</th>\n",
       "      <th>V1</th>\n",
       "      <th>V2</th>\n",
       "      <th>V3</th>\n",
       "      <th>V4</th>\n",
       "      <th>V5</th>\n",
       "      <th>V6</th>\n",
       "      <th>V7</th>\n",
       "      <th>V8</th>\n",
       "      <th>V9</th>\n",
       "      <th>...</th>\n",
       "      <th>V21</th>\n",
       "      <th>V22</th>\n",
       "      <th>V23</th>\n",
       "      <th>V24</th>\n",
       "      <th>V25</th>\n",
       "      <th>V26</th>\n",
       "      <th>V27</th>\n",
       "      <th>V28</th>\n",
       "      <th>Amount</th>\n",
       "      <th>Class</th>\n",
       "    </tr>\n",
       "  </thead>\n",
       "  <tbody>\n",
       "    <tr>\n",
       "      <th>0</th>\n",
       "      <td>0.0</td>\n",
       "      <td>-1.359807</td>\n",
       "      <td>-0.072781</td>\n",
       "      <td>2.536347</td>\n",
       "      <td>1.378155</td>\n",
       "      <td>-0.338321</td>\n",
       "      <td>0.462388</td>\n",
       "      <td>0.239599</td>\n",
       "      <td>0.098698</td>\n",
       "      <td>0.363787</td>\n",
       "      <td>...</td>\n",
       "      <td>-0.018307</td>\n",
       "      <td>0.277838</td>\n",
       "      <td>-0.110474</td>\n",
       "      <td>0.066928</td>\n",
       "      <td>0.128539</td>\n",
       "      <td>-0.189115</td>\n",
       "      <td>0.133558</td>\n",
       "      <td>-0.021053</td>\n",
       "      <td>149.62</td>\n",
       "      <td>0</td>\n",
       "    </tr>\n",
       "    <tr>\n",
       "      <th>1</th>\n",
       "      <td>0.0</td>\n",
       "      <td>1.191857</td>\n",
       "      <td>0.266151</td>\n",
       "      <td>0.166480</td>\n",
       "      <td>0.448154</td>\n",
       "      <td>0.060018</td>\n",
       "      <td>-0.082361</td>\n",
       "      <td>-0.078803</td>\n",
       "      <td>0.085102</td>\n",
       "      <td>-0.255425</td>\n",
       "      <td>...</td>\n",
       "      <td>-0.225775</td>\n",
       "      <td>-0.638672</td>\n",
       "      <td>0.101288</td>\n",
       "      <td>-0.339846</td>\n",
       "      <td>0.167170</td>\n",
       "      <td>0.125895</td>\n",
       "      <td>-0.008983</td>\n",
       "      <td>0.014724</td>\n",
       "      <td>2.69</td>\n",
       "      <td>0</td>\n",
       "    </tr>\n",
       "    <tr>\n",
       "      <th>2</th>\n",
       "      <td>1.0</td>\n",
       "      <td>-1.358354</td>\n",
       "      <td>-1.340163</td>\n",
       "      <td>1.773209</td>\n",
       "      <td>0.379780</td>\n",
       "      <td>-0.503198</td>\n",
       "      <td>1.800499</td>\n",
       "      <td>0.791461</td>\n",
       "      <td>0.247676</td>\n",
       "      <td>-1.514654</td>\n",
       "      <td>...</td>\n",
       "      <td>0.247998</td>\n",
       "      <td>0.771679</td>\n",
       "      <td>0.909412</td>\n",
       "      <td>-0.689281</td>\n",
       "      <td>-0.327642</td>\n",
       "      <td>-0.139097</td>\n",
       "      <td>-0.055353</td>\n",
       "      <td>-0.059752</td>\n",
       "      <td>378.66</td>\n",
       "      <td>0</td>\n",
       "    </tr>\n",
       "    <tr>\n",
       "      <th>3</th>\n",
       "      <td>1.0</td>\n",
       "      <td>-0.966272</td>\n",
       "      <td>-0.185226</td>\n",
       "      <td>1.792993</td>\n",
       "      <td>-0.863291</td>\n",
       "      <td>-0.010309</td>\n",
       "      <td>1.247203</td>\n",
       "      <td>0.237609</td>\n",
       "      <td>0.377436</td>\n",
       "      <td>-1.387024</td>\n",
       "      <td>...</td>\n",
       "      <td>-0.108300</td>\n",
       "      <td>0.005274</td>\n",
       "      <td>-0.190321</td>\n",
       "      <td>-1.175575</td>\n",
       "      <td>0.647376</td>\n",
       "      <td>-0.221929</td>\n",
       "      <td>0.062723</td>\n",
       "      <td>0.061458</td>\n",
       "      <td>123.50</td>\n",
       "      <td>0</td>\n",
       "    </tr>\n",
       "    <tr>\n",
       "      <th>4</th>\n",
       "      <td>2.0</td>\n",
       "      <td>-1.158233</td>\n",
       "      <td>0.877737</td>\n",
       "      <td>1.548718</td>\n",
       "      <td>0.403034</td>\n",
       "      <td>-0.407193</td>\n",
       "      <td>0.095921</td>\n",
       "      <td>0.592941</td>\n",
       "      <td>-0.270533</td>\n",
       "      <td>0.817739</td>\n",
       "      <td>...</td>\n",
       "      <td>-0.009431</td>\n",
       "      <td>0.798278</td>\n",
       "      <td>-0.137458</td>\n",
       "      <td>0.141267</td>\n",
       "      <td>-0.206010</td>\n",
       "      <td>0.502292</td>\n",
       "      <td>0.219422</td>\n",
       "      <td>0.215153</td>\n",
       "      <td>69.99</td>\n",
       "      <td>0</td>\n",
       "    </tr>\n",
       "  </tbody>\n",
       "</table>\n",
       "<p>5 rows × 31 columns</p>\n",
       "</div>"
      ]
     },
     "execution_count": 5,
     "metadata": {},
     "output_type": "execute_result"
    }
   ],
   "execution_count": 5
  },
  {
   "metadata": {
    "ExecuteTime": {
     "end_time": "2025-06-13T16:13:36.451380Z",
     "start_time": "2025-06-13T16:13:36.215891Z"
    }
   },
   "cell_type": "code",
   "source": [
    "#checking imbalance data\n",
    "df['Class'].value_counts().plot(kind='bar')"
   ],
   "id": "f444764bc1186764",
   "outputs": [
    {
     "data": {
      "text/plain": [
       "<Axes: xlabel='Class'>"
      ]
     },
     "execution_count": 6,
     "metadata": {},
     "output_type": "execute_result"
    },
    {
     "data": {
      "text/plain": [
       "<Figure size 640x480 with 1 Axes>"
      ],
      "image/png": "[encoded data removed]"
     },
     "metadata": {},
     "output_type": "display_data"
    }
   ],
   "execution_count": 6
  },
  {
   "metadata": {
    "ExecuteTime": {
     "end_time": "2025-06-13T16:13:36.549850Z",
     "start_time": "2025-06-13T16:13:36.543001Z"
    }
   },
   "cell_type": "code",
   "source": [
    "# Technique\n",
    "# What it does\tPros\tCons\n",
    "# Undersampling\tRemove majority samples,\tSimple, fast\tLose information\n",
    "# Oversampling\tAdd minority samples,\tKeep all data\tRisk of overfittin"
   ],
   "id": "e42ffba31fcc372",
   "outputs": [],
   "execution_count": 7
  },
  {
   "metadata": {
    "ExecuteTime": {
     "end_time": "2025-06-13T16:13:37.020070Z",
     "start_time": "2025-06-13T16:13:36.987499Z"
    }
   },
   "cell_type": "code",
   "source": [
    "df=df.sample(n=20000)\n",
    "df['Class'].value_counts()"
   ],
   "id": "6fc9d80961a95d53",
   "outputs": [
    {
     "data": {
      "text/plain": [
       "Class\n",
       "0    19971\n",
       "1       29\n",
       "Name: count, dtype: int64"
      ]
     },
     "execution_count": 8,
     "metadata": {},
     "output_type": "execute_result"
    }
   ],
   "execution_count": 8
  },
  {
   "metadata": {
    "ExecuteTime": {
     "end_time": "2025-06-13T16:13:37.198001Z",
     "start_time": "2025-06-13T16:13:37.177430Z"
    }
   },
   "cell_type": "code",
   "source": [
    "#Training model without balancing data\n",
    "from sklearn.model_selection import train_test_split\n",
    "\n",
    "X=df.drop('Class',axis=1)\n",
    "y=df['Class']\n",
    "X_train,X_test,y_train,y_test=train_test_split(X,y,test_size=0.2,random_state=42)"
   ],
   "id": "6462070a3f2d4ce7",
   "outputs": [],
   "execution_count": 9
  },
  {
   "metadata": {
    "ExecuteTime": {
     "end_time": "2025-06-13T16:13:45.178506Z",
     "start_time": "2025-06-13T16:13:37.402370Z"
    }
   },
   "cell_type": "code",
   "source": [
    "from sklearn.metrics import confusion_matrix,classification_report\n",
    "from sklearn.ensemble import RandomForestClassifier\n",
    "\n",
    "rf_model=RandomForestClassifier() #object creation\n",
    "rf_model.fit(X_train,y_train)\n",
    "y_pred=rf_model.predict(X_test)\n",
    "\n",
    "conf_matrix=confusion_matrix(y_test,y_pred)\n",
    "print(\"Confusion Matrix:\")\n",
    "print(conf_matrix)\n",
    "\n",
    "class_report = classification_report(y_test,y_pred)\n",
    "print(\"Classification Report:\")\n",
    "print(class_report)\n",
    "\n",
    "accuracy=rf_model.score(X_test,y_test)\n",
    "print(\"Accuracy:\",accuracy)\n"
   ],
   "id": "278319712fd4a15",
   "outputs": [
    {
     "name": "stdout",
     "output_type": "stream",
     "text": [
      "Confusion Matrix:\n",
      "[[3995    1]\n",
      " [   0    4]]\n",
      "Classification Report:\n",
      "              precision    recall  f1-score   support\n",
      "\n",
      "           0       1.00      1.00      1.00      3996\n",
      "           1       0.80      1.00      0.89         4\n",
      "\n",
      "    accuracy                           1.00      4000\n",
      "   macro avg       0.90      1.00      0.94      4000\n",
      "weighted avg       1.00      1.00      1.00      4000\n",
      "\n",
      "Accuracy: 0.99975\n"
     ]
    }
   ],
   "execution_count": 10
  },
  {
   "metadata": {
    "ExecuteTime": {
     "end_time": "2025-06-13T16:13:45.299834Z",
     "start_time": "2025-06-13T16:13:45.265628Z"
    }
   },
   "cell_type": "code",
   "source": [
    "#Applying RandomOverSampler\n",
    "from imblearn.over_sampling import RandomOverSampler\n",
    "\n",
    "ros=RandomOverSampler()#object creation\n",
    "X_ros,y_ros=ros.fit_resample(X_train,y_train)\n",
    "\n",
    "y_ros.value_counts()"
   ],
   "id": "b8cf299fb00e3b5d",
   "outputs": [
    {
     "data": {
      "text/plain": [
       "Class\n",
       "0    15975\n",
       "1    15975\n",
       "Name: count, dtype: int64"
      ]
     },
     "execution_count": 11,
     "metadata": {},
     "output_type": "execute_result"
    }
   ],
   "execution_count": 11
  },
  {
   "metadata": {
    "ExecuteTime": {
     "end_time": "2025-06-13T16:13:50.850330Z",
     "start_time": "2025-06-13T16:13:45.453444Z"
    }
   },
   "cell_type": "code",
   "source": [
    "rf_model_ros=RandomForestClassifier()\n",
    "rf_model_ros.fit(X_ros,y_ros)\n",
    "y_pred_ros=rf_model_ros.predict(X_test)\n",
    "\n",
    "conf_matrix_ros=confusion_matrix(y_test,y_pred_ros)\n",
    "print(\"Confusion Matrix:\")\n",
    "print(conf_matrix_ros)\n",
    "\n",
    "\n",
    "class_report_ros = classification_report(y_test,y_pred_ros)\n",
    "print(\"Classification Report:\")\n",
    "print(class_report_ros)\n",
    "\n",
    "accuracy_ros=rf_model_ros.score(X_test,y_test)\n",
    "print(\"Accuracy:\",accuracy_ros)"
   ],
   "id": "73d06ec3793ea5bd",
   "outputs": [
    {
     "name": "stdout",
     "output_type": "stream",
     "text": [
      "Confusion Matrix:\n",
      "[[3995    1]\n",
      " [   0    4]]\n",
      "Classification Report:\n",
      "              precision    recall  f1-score   support\n",
      "\n",
      "           0       1.00      1.00      1.00      3996\n",
      "           1       0.80      1.00      0.89         4\n",
      "\n",
      "    accuracy                           1.00      4000\n",
      "   macro avg       0.90      1.00      0.94      4000\n",
      "weighted avg       1.00      1.00      1.00      4000\n",
      "\n",
      "Accuracy: 0.99975\n"
     ]
    }
   ],
   "execution_count": 12
  },
  {
   "metadata": {
    "ExecuteTime": {
     "end_time": "2025-06-13T16:13:50.979601Z",
     "start_time": "2025-06-13T16:13:50.973329Z"
    }
   },
   "cell_type": "code",
   "source": [
    "#SMOTE-Synthetic miniority samples\n",
    "# ✅ Creates new, synthetic minority samples\n",
    "# ✅ Prevents overfitting better than simple duplication\n",
    "# ✅ Works well with continuous numerical features\n",
    "# ❌ Not ideal for categorical-only features (other techniques exist for that)"
   ],
   "id": "d9fc4c6127df33c3",
   "outputs": [],
   "execution_count": 13
  },
  {
   "metadata": {
    "ExecuteTime": {
     "end_time": "2025-06-13T16:13:53.432250Z",
     "start_time": "2025-06-13T16:13:51.104942Z"
    }
   },
   "cell_type": "code",
   "source": [
    "from imblearn.over_sampling import SMOTE\n",
    "from sklearn.ensemble import RandomForestClassifier\n",
    "from sklearn.metrics import confusion_matrix,classification_report\n",
    "\n",
    "smote=SMOTE()\n",
    "\n",
    "X_smote,y_smote=smote.fit_resample(X_train,y_train)\n",
    "y_smote.value_counts()"
   ],
   "id": "f907a39d23d5deec",
   "outputs": [
    {
     "data": {
      "text/plain": [
       "Class\n",
       "0    15975\n",
       "1    15975\n",
       "Name: count, dtype: int64"
      ]
     },
     "execution_count": 14,
     "metadata": {},
     "output_type": "execute_result"
    }
   ],
   "execution_count": 14
  },
  {
   "metadata": {
    "ExecuteTime": {
     "end_time": "2025-06-13T16:14:47.152813Z",
     "start_time": "2025-06-13T16:14:28.110892Z"
    }
   },
   "cell_type": "code",
   "source": [
    "# Initialize the model\n",
    "rf_model_smote = RandomForestClassifier()\n",
    "\n",
    "# Train the model on SMOTE data\n",
    "rf_model_smote.fit(X_smote, y_smote)\n",
    "\n",
    "# Predict on the test set\n",
    "y_pred_smote = rf_model_smote.predict(X_test)\n",
    "\n",
    "# Calculate confusion matrix\n",
    "conf_matrix_smote = confusion_matrix(y_test, y_pred_smote)\n",
    "print(\"Confusion Matrix (SMOTE):\")\n",
    "print(conf_matrix_smote)\n",
    "\n",
    "# Calculate classification report\n",
    "class_report_smote = classification_report(y_test, y_pred_smote)\n",
    "print(\"\\nClassification Report (SMOTE):\")\n",
    "print(class_report_smote)\n",
    "\n",
    "# Calculate accuracy\n",
    "accuracy_smote = rf_model_smote.score(X_test, y_test)\n",
    "print(\"Accuracy (SMOTE):\", accuracy_smote)"
   ],
   "id": "8dcd54f0400fe3",
   "outputs": [
    {
     "name": "stdout",
     "output_type": "stream",
     "text": [
      "Confusion Matrix (SMOTE):\n",
      "[[3995    1]\n",
      " [   0    4]]\n",
      "\n",
      "Classification Report (SMOTE):\n",
      "              precision    recall  f1-score   support\n",
      "\n",
      "           0       1.00      1.00      1.00      3996\n",
      "           1       0.80      1.00      0.89         4\n",
      "\n",
      "    accuracy                           1.00      4000\n",
      "   macro avg       0.90      1.00      0.94      4000\n",
      "weighted avg       1.00      1.00      1.00      4000\n",
      "\n",
      "Accuracy (SMOTE): 0.99975\n"
     ]
    }
   ],
   "execution_count": 15
  },
  {
   "metadata": {
    "ExecuteTime": {
     "end_time": "2025-06-13T16:17:22.026797Z",
     "start_time": "2025-06-13T16:17:22.003106Z"
    }
   },
   "cell_type": "code",
   "source": [
    "# Get the input data as a 2D array\n",
    "inputs_1 = X_test.iloc[[45]].values\n",
    "\n",
    "# Predict with the model\n",
    "prediction = rf_model_smote.predict(inputs_1)\n",
    "print(\"Actual Class :\", y_test.iloc[10])\n",
    "print(\"Predicted Class:\", prediction[0])"
   ],
   "id": "569824226bc3535e",
   "outputs": [
    {
     "name": "stdout",
     "output_type": "stream",
     "text": [
      "Actual Class : 0\n",
      "Predicted Class: 0\n"
     ]
    },
    {
     "name": "stderr",
     "output_type": "stream",
     "text": [
      "C:\\Users\\risha\\PycharmProjects\\PythonProject\\.venv\\Lib\\site-packages\\sklearn\\utils\\validation.py:2739: UserWarning: X does not have valid feature names, but RandomForestClassifier was fitted with feature names\n",
      "  warnings.warn(\n"
     ]
    }
   ],
   "execution_count": 21
  },
  {
   "metadata": {
    "ExecuteTime": {
     "end_time": "2025-06-13T16:16:50.342775Z",
     "start_time": "2025-06-13T16:16:50.304362Z"
    }
   },
   "cell_type": "code",
   "source": [
    "# Get the input data as a 2D array\n",
    "inputs_2 = X_test.iloc[[101]].values\n",
    "\n",
    "# Predict with the model\n",
    "prediction = rf_model_smote.predict(inputs_1)\n",
    "print(\"Actual Class :\", y_test.iloc[101])\n",
    "print(\"Predicted Class:\", prediction[0])"
   ],
   "id": "c5a01b2060163be",
   "outputs": [
    {
     "name": "stdout",
     "output_type": "stream",
     "text": [
      "Actual Class : 0\n",
      "Predicted Class: 0\n"
     ]
    },
    {
     "name": "stderr",
     "output_type": "stream",
     "text": [
      "C:\\Users\\risha\\PycharmProjects\\PythonProject\\.venv\\Lib\\site-packages\\sklearn\\utils\\validation.py:2739: UserWarning: X does not have valid feature names, but RandomForestClassifier was fitted with feature names\n",
      "  warnings.warn(\n"
     ]
    }
   ],
   "execution_count": 17
  }
 ],
 "metadata": {
  "kernelspec": {
   "display_name": "Python 3",
   "language": "python",
   "name": "python3"
  },
  "language_info": {
   "codemirror_mode": {
    "name": "ipython",
    "version": 2
   },
   "file_extension": ".py",
   "mimetype": "text/x-python",
   "name": "python",
   "nbconvert_exporter": "python",
   "pygments_lexer": "ipython2",
   "version": "2.7.6"
  }
 },
 "nbformat": 4,
 "nbformat_minor": 5
}
