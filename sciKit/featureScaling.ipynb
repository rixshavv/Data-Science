{
 "cells": [
  {
   "cell_type": "code",
   "id": "initial_id",
   "metadata": {
    "collapsed": true,
    "ExecuteTime": {
     "end_time": "2025-06-06T02:36:38.255069Z",
     "start_time": "2025-06-06T02:36:16.702096Z"
    }
   },
   "source": [
    "from sklearn import datasets\n",
    "\n",
    "from INHOUSETRAINING.DeepLearning import x_train"
   ],
   "outputs": [],
   "execution_count": 3
  },
  {
   "metadata": {
    "ExecuteTime": {
     "end_time": "2025-06-06T02:37:09.596125Z",
     "start_time": "2025-06-06T02:37:09.511868Z"
    }
   },
   "cell_type": "code",
   "source": "data = datasets.load_breast_cancer()",
   "id": "f2c9150137b19bf5",
   "outputs": [],
   "execution_count": 4
  },
  {
   "metadata": {
    "ExecuteTime": {
     "end_time": "2025-06-06T02:38:48.014735Z",
     "start_time": "2025-06-06T02:38:47.993467Z"
    }
   },
   "cell_type": "code",
   "source": "X,y=datasets.load_breast_cancer(return_X_y=True) #This will give all the input data to X and output data to y",
   "id": "dee348ad6cc917f7",
   "outputs": [],
   "execution_count": 5
  },
  {
   "metadata": {
    "ExecuteTime": {
     "end_time": "2025-06-06T02:56:40.863946Z",
     "start_time": "2025-06-06T02:56:35.677398Z"
    }
   },
   "cell_type": "code",
   "source": "import pandas as pd",
   "id": "54dae6a7dfbed76a",
   "outputs": [],
   "execution_count": 2
  },
  {
   "metadata": {
    "ExecuteTime": {
     "end_time": "2025-06-06T02:58:28.242277Z",
     "start_time": "2025-06-06T02:58:28.220591Z"
    }
   },
   "cell_type": "code",
   "source": "df=pd.read_csv(\"../Assets/CAR DETAILS FROM CAR DEKHO.csv\")",
   "id": "f6effd7ec44764dc",
   "outputs": [],
   "execution_count": 7
  },
  {
   "metadata": {
    "ExecuteTime": {
     "end_time": "2025-06-06T02:58:37.896406Z",
     "start_time": "2025-06-06T02:58:37.860020Z"
    }
   },
   "cell_type": "code",
   "source": [
    "df.head()\n",
    "\n"
   ],
   "id": "a61e0f8bcec1bf80",
   "outputs": [
    {
     "data": {
      "text/plain": [
       "                       name  year  selling_price  km_driven    fuel  \\\n",
       "0             Maruti 800 AC  2007          60000      70000  Petrol   \n",
       "1  Maruti Wagon R LXI Minor  2007         135000      50000  Petrol   \n",
       "2      Hyundai Verna 1.6 SX  2012         600000     100000  Diesel   \n",
       "3    Datsun RediGO T Option  2017         250000      46000  Petrol   \n",
       "4     Honda Amaze VX i-DTEC  2014         450000     141000  Diesel   \n",
       "\n",
       "  seller_type transmission         owner  \n",
       "0  Individual       Manual   First Owner  \n",
       "1  Individual       Manual   First Owner  \n",
       "2  Individual       Manual   First Owner  \n",
       "3  Individual       Manual   First Owner  \n",
       "4  Individual       Manual  Second Owner  "
      ],
      "text/html": [
       "<div>\n",
       "<style scoped>\n",
       "    .dataframe tbody tr th:only-of-type {\n",
       "        vertical-align: middle;\n",
       "    }\n",
       "\n",
       "    .dataframe tbody tr th {\n",
       "        vertical-align: top;\n",
       "    }\n",
       "\n",
       "    .dataframe thead th {\n",
       "        text-align: right;\n",
       "    }\n",
       "</style>\n",
       "<table border=\"1\" class=\"dataframe\">\n",
       "  <thead>\n",
       "    <tr style=\"text-align: right;\">\n",
       "      <th></th>\n",
       "      <th>name</th>\n",
       "      <th>year</th>\n",
       "      <th>selling_price</th>\n",
       "      <th>km_driven</th>\n",
       "      <th>fuel</th>\n",
       "      <th>seller_type</th>\n",
       "      <th>transmission</th>\n",
       "      <th>owner</th>\n",
       "    </tr>\n",
       "  </thead>\n",
       "  <tbody>\n",
       "    <tr>\n",
       "      <th>0</th>\n",
       "      <td>Maruti 800 AC</td>\n",
       "      <td>2007</td>\n",
       "      <td>60000</td>\n",
       "      <td>70000</td>\n",
       "      <td>Petrol</td>\n",
       "      <td>Individual</td>\n",
       "      <td>Manual</td>\n",
       "      <td>First Owner</td>\n",
       "    </tr>\n",
       "    <tr>\n",
       "      <th>1</th>\n",
       "      <td>Maruti Wagon R LXI Minor</td>\n",
       "      <td>2007</td>\n",
       "      <td>135000</td>\n",
       "      <td>50000</td>\n",
       "      <td>Petrol</td>\n",
       "      <td>Individual</td>\n",
       "      <td>Manual</td>\n",
       "      <td>First Owner</td>\n",
       "    </tr>\n",
       "    <tr>\n",
       "      <th>2</th>\n",
       "      <td>Hyundai Verna 1.6 SX</td>\n",
       "      <td>2012</td>\n",
       "      <td>600000</td>\n",
       "      <td>100000</td>\n",
       "      <td>Diesel</td>\n",
       "      <td>Individual</td>\n",
       "      <td>Manual</td>\n",
       "      <td>First Owner</td>\n",
       "    </tr>\n",
       "    <tr>\n",
       "      <th>3</th>\n",
       "      <td>Datsun RediGO T Option</td>\n",
       "      <td>2017</td>\n",
       "      <td>250000</td>\n",
       "      <td>46000</td>\n",
       "      <td>Petrol</td>\n",
       "      <td>Individual</td>\n",
       "      <td>Manual</td>\n",
       "      <td>First Owner</td>\n",
       "    </tr>\n",
       "    <tr>\n",
       "      <th>4</th>\n",
       "      <td>Honda Amaze VX i-DTEC</td>\n",
       "      <td>2014</td>\n",
       "      <td>450000</td>\n",
       "      <td>141000</td>\n",
       "      <td>Diesel</td>\n",
       "      <td>Individual</td>\n",
       "      <td>Manual</td>\n",
       "      <td>Second Owner</td>\n",
       "    </tr>\n",
       "  </tbody>\n",
       "</table>\n",
       "</div>"
      ]
     },
     "execution_count": 8,
     "metadata": {},
     "output_type": "execute_result"
    }
   ],
   "execution_count": 8
  },
  {
   "metadata": {
    "ExecuteTime": {
     "end_time": "2025-06-06T03:00:07.961843Z",
     "start_time": "2025-06-06T03:00:07.940251Z"
    }
   },
   "cell_type": "code",
   "source": "X=df.drop('selling_price',axis=1) #removes the selling price column ,axis -1 (column)",
   "id": "1f32425bb1851221",
   "outputs": [],
   "execution_count": 9
  },
  {
   "metadata": {
    "ExecuteTime": {
     "end_time": "2025-06-06T03:01:02.939368Z",
     "start_time": "2025-06-06T03:01:02.932255Z"
    }
   },
   "cell_type": "code",
   "source": "y=df['selling_price']",
   "id": "ba982aa3da084d37",
   "outputs": [],
   "execution_count": 11
  },
  {
   "metadata": {
    "ExecuteTime": {
     "end_time": "2025-06-06T03:01:24.760568Z",
     "start_time": "2025-06-06T03:01:11.912779Z"
    }
   },
   "cell_type": "code",
   "source": "from sklearn.model_selection import train_test_split",
   "id": "7cc6fce9ef129f12",
   "outputs": [],
   "execution_count": 12
  },
  {
   "metadata": {
    "ExecuteTime": {
     "end_time": "2025-06-06T03:04:47.695412Z",
     "start_time": "2025-06-06T03:04:47.674207Z"
    }
   },
   "cell_type": "code",
   "source": [
    "X_train,X_test,y_train,y_test =train_test_split(X,y,test_size=0.2,random_state=42) #random state means it will ensure that the train split data is fixed and 42 number is just a programmer convention you can take any number\n",
    "\n",
    "#As we test 80% data for training and 20% data for testing hence for both train and test 80:20 ratio data is taken..."
   ],
   "id": "c233be420ed88b37",
   "outputs": [],
   "execution_count": 13
  },
  {
   "metadata": {
    "ExecuteTime": {
     "end_time": "2025-06-06T03:10:09.563779Z",
     "start_time": "2025-06-06T03:10:09.551417Z"
    }
   },
   "cell_type": "code",
   "source": "X_train.shape,X_test.shape,y_train.shape,y_test.shape",
   "id": "27937eb644160ed5",
   "outputs": [
    {
     "data": {
      "text/plain": [
       "((3472, 7), (868, 7), (3472,), (868,))"
      ]
     },
     "execution_count": 15,
     "metadata": {},
     "output_type": "execute_result"
    }
   ],
   "execution_count": 15
  },
  {
   "metadata": {
    "ExecuteTime": {
     "end_time": "2025-06-06T03:13:51.430547Z",
     "start_time": "2025-06-06T03:13:51.418796Z"
    }
   },
   "cell_type": "code",
   "source": [
    "#Regression - output-a number or a real value(Example-car price estimation)\n",
    "#Classification-Output a category"
   ],
   "id": "65ed8325cdb8e75e",
   "outputs": [],
   "execution_count": 16
  },
  {
   "metadata": {
    "ExecuteTime": {
     "end_time": "2025-06-06T03:15:06.020868Z",
     "start_time": "2025-06-06T03:15:06.011356Z"
    }
   },
   "cell_type": "code",
   "source": "df=df[['selling_price','km_driven','year']]",
   "id": "72d5afd985d802b7",
   "outputs": [],
   "execution_count": 18
  },
  {
   "metadata": {
    "ExecuteTime": {
     "end_time": "2025-06-06T03:15:14.835399Z",
     "start_time": "2025-06-06T03:15:14.819379Z"
    }
   },
   "cell_type": "code",
   "source": "df.head()",
   "id": "af777144ece2ea8f",
   "outputs": [
    {
     "data": {
      "text/plain": [
       "   selling_price  km_driven  year\n",
       "0          60000      70000  2007\n",
       "1         135000      50000  2007\n",
       "2         600000     100000  2012\n",
       "3         250000      46000  2017\n",
       "4         450000     141000  2014"
      ],
      "text/html": [
       "<div>\n",
       "<style scoped>\n",
       "    .dataframe tbody tr th:only-of-type {\n",
       "        vertical-align: middle;\n",
       "    }\n",
       "\n",
       "    .dataframe tbody tr th {\n",
       "        vertical-align: top;\n",
       "    }\n",
       "\n",
       "    .dataframe thead th {\n",
       "        text-align: right;\n",
       "    }\n",
       "</style>\n",
       "<table border=\"1\" class=\"dataframe\">\n",
       "  <thead>\n",
       "    <tr style=\"text-align: right;\">\n",
       "      <th></th>\n",
       "      <th>selling_price</th>\n",
       "      <th>km_driven</th>\n",
       "      <th>year</th>\n",
       "    </tr>\n",
       "  </thead>\n",
       "  <tbody>\n",
       "    <tr>\n",
       "      <th>0</th>\n",
       "      <td>60000</td>\n",
       "      <td>70000</td>\n",
       "      <td>2007</td>\n",
       "    </tr>\n",
       "    <tr>\n",
       "      <th>1</th>\n",
       "      <td>135000</td>\n",
       "      <td>50000</td>\n",
       "      <td>2007</td>\n",
       "    </tr>\n",
       "    <tr>\n",
       "      <th>2</th>\n",
       "      <td>600000</td>\n",
       "      <td>100000</td>\n",
       "      <td>2012</td>\n",
       "    </tr>\n",
       "    <tr>\n",
       "      <th>3</th>\n",
       "      <td>250000</td>\n",
       "      <td>46000</td>\n",
       "      <td>2017</td>\n",
       "    </tr>\n",
       "    <tr>\n",
       "      <th>4</th>\n",
       "      <td>450000</td>\n",
       "      <td>141000</td>\n",
       "      <td>2014</td>\n",
       "    </tr>\n",
       "  </tbody>\n",
       "</table>\n",
       "</div>"
      ]
     },
     "execution_count": 19,
     "metadata": {},
     "output_type": "execute_result"
    }
   ],
   "execution_count": 19
  },
  {
   "metadata": {
    "ExecuteTime": {
     "end_time": "2025-06-06T03:25:42.707450Z",
     "start_time": "2025-06-06T03:25:42.696743Z"
    }
   },
   "cell_type": "code",
   "source": "#Feature Scaling:making all features value to a standard form so that no feature can unfairly influence the model and It is performed after train test split",
   "id": "8a6ef80327a085b4",
   "outputs": [],
   "execution_count": 20
  },
  {
   "metadata": {
    "ExecuteTime": {
     "end_time": "2025-06-06T03:31:02.301229Z",
     "start_time": "2025-06-06T03:31:02.297255Z"
    }
   },
   "cell_type": "code",
   "source": [
    "#Applying Normalization:MinMax Scaling\n",
    "from sklearn.preprocessing import MinMaxScaler"
   ],
   "id": "17bc8864ce1cf7a2",
   "outputs": [],
   "execution_count": 21
  },
  {
   "metadata": {
    "ExecuteTime": {
     "end_time": "2025-06-06T03:31:49.293702Z",
     "start_time": "2025-06-06T03:31:49.288916Z"
    }
   },
   "cell_type": "code",
   "source": "scaler=MinMaxScaler() #object creation (scaler)",
   "id": "61dee7089b5ecc57",
   "outputs": [],
   "execution_count": 23
  },
  {
   "metadata": {
    "ExecuteTime": {
     "end_time": "2025-06-06T03:33:19.146207Z",
     "start_time": "2025-06-06T03:33:19.139771Z"
    }
   },
   "cell_type": "code",
   "source": "scaled_df=scaler.fit_transform(df) #output will be a numpy array",
   "id": "987f93e2ec5f9b75",
   "outputs": [],
   "execution_count": 25
  },
  {
   "metadata": {
    "ExecuteTime": {
     "end_time": "2025-06-06T03:33:24.893492Z",
     "start_time": "2025-06-06T03:33:24.888279Z"
    }
   },
   "cell_type": "code",
   "source": "scaled_df",
   "id": "c8e025c48fde374b",
   "outputs": [
    {
     "data": {
      "text/plain": [
       "array([[0.0045045 , 0.08678301, 0.53571429],\n",
       "       [0.01295045, 0.06198751, 0.53571429],\n",
       "       [0.06531532, 0.12397626, 0.71428571],\n",
       "       ...,\n",
       "       [0.01013514, 0.10290008, 0.60714286],\n",
       "       [0.09515766, 0.11157851, 0.85714286],\n",
       "       [0.02308559, 0.04958976, 0.85714286]])"
      ]
     },
     "execution_count": 26,
     "metadata": {},
     "output_type": "execute_result"
    }
   ],
   "execution_count": 26
  },
  {
   "metadata": {
    "ExecuteTime": {
     "end_time": "2025-06-06T03:36:03.550461Z",
     "start_time": "2025-06-06T03:36:03.543660Z"
    }
   },
   "cell_type": "code",
   "source": [
    "scaled_df=pd.DataFrame(scaled_df,columns=df.columns) #creating a dataframe\n",
    "scaled_df.head()\n",
    "\n"
   ],
   "id": "b286550764da66e6",
   "outputs": [
    {
     "data": {
      "text/plain": [
       "   selling_price  km_driven      year\n",
       "0       0.004505   0.086783  0.535714\n",
       "1       0.012950   0.061988  0.535714\n",
       "2       0.065315   0.123976  0.714286\n",
       "3       0.025901   0.057028  0.892857\n",
       "4       0.048423   0.174807  0.785714"
      ],
      "text/html": [
       "<div>\n",
       "<style scoped>\n",
       "    .dataframe tbody tr th:only-of-type {\n",
       "        vertical-align: middle;\n",
       "    }\n",
       "\n",
       "    .dataframe tbody tr th {\n",
       "        vertical-align: top;\n",
       "    }\n",
       "\n",
       "    .dataframe thead th {\n",
       "        text-align: right;\n",
       "    }\n",
       "</style>\n",
       "<table border=\"1\" class=\"dataframe\">\n",
       "  <thead>\n",
       "    <tr style=\"text-align: right;\">\n",
       "      <th></th>\n",
       "      <th>selling_price</th>\n",
       "      <th>km_driven</th>\n",
       "      <th>year</th>\n",
       "    </tr>\n",
       "  </thead>\n",
       "  <tbody>\n",
       "    <tr>\n",
       "      <th>0</th>\n",
       "      <td>0.004505</td>\n",
       "      <td>0.086783</td>\n",
       "      <td>0.535714</td>\n",
       "    </tr>\n",
       "    <tr>\n",
       "      <th>1</th>\n",
       "      <td>0.012950</td>\n",
       "      <td>0.061988</td>\n",
       "      <td>0.535714</td>\n",
       "    </tr>\n",
       "    <tr>\n",
       "      <th>2</th>\n",
       "      <td>0.065315</td>\n",
       "      <td>0.123976</td>\n",
       "      <td>0.714286</td>\n",
       "    </tr>\n",
       "    <tr>\n",
       "      <th>3</th>\n",
       "      <td>0.025901</td>\n",
       "      <td>0.057028</td>\n",
       "      <td>0.892857</td>\n",
       "    </tr>\n",
       "    <tr>\n",
       "      <th>4</th>\n",
       "      <td>0.048423</td>\n",
       "      <td>0.174807</td>\n",
       "      <td>0.785714</td>\n",
       "    </tr>\n",
       "  </tbody>\n",
       "</table>\n",
       "</div>"
      ]
     },
     "execution_count": 29,
     "metadata": {},
     "output_type": "execute_result"
    }
   ],
   "execution_count": 29
  },
  {
   "metadata": {
    "ExecuteTime": {
     "end_time": "2025-06-06T03:36:22.586833Z",
     "start_time": "2025-06-06T03:36:22.581774Z"
    }
   },
   "cell_type": "code",
   "source": [
    "X=df.drop('selling_price',axis=1)\n",
    "y=df['selling_price']"
   ],
   "id": "4c209956328114ca",
   "outputs": [],
   "execution_count": 30
  },
  {
   "metadata": {
    "ExecuteTime": {
     "end_time": "2025-06-06T03:36:29.734538Z",
     "start_time": "2025-06-06T03:36:29.728531Z"
    }
   },
   "cell_type": "code",
   "source": "X",
   "id": "7144d3ea8943d040",
   "outputs": [
    {
     "data": {
      "text/plain": [
       "      km_driven  year\n",
       "0         70000  2007\n",
       "1         50000  2007\n",
       "2        100000  2012\n",
       "3         46000  2017\n",
       "4        141000  2014\n",
       "...         ...   ...\n",
       "4335      80000  2014\n",
       "4336      80000  2014\n",
       "4337      83000  2009\n",
       "4338      90000  2016\n",
       "4339      40000  2016\n",
       "\n",
       "[4340 rows x 2 columns]"
      ],
      "text/html": [
       "<div>\n",
       "<style scoped>\n",
       "    .dataframe tbody tr th:only-of-type {\n",
       "        vertical-align: middle;\n",
       "    }\n",
       "\n",
       "    .dataframe tbody tr th {\n",
       "        vertical-align: top;\n",
       "    }\n",
       "\n",
       "    .dataframe thead th {\n",
       "        text-align: right;\n",
       "    }\n",
       "</style>\n",
       "<table border=\"1\" class=\"dataframe\">\n",
       "  <thead>\n",
       "    <tr style=\"text-align: right;\">\n",
       "      <th></th>\n",
       "      <th>km_driven</th>\n",
       "      <th>year</th>\n",
       "    </tr>\n",
       "  </thead>\n",
       "  <tbody>\n",
       "    <tr>\n",
       "      <th>0</th>\n",
       "      <td>70000</td>\n",
       "      <td>2007</td>\n",
       "    </tr>\n",
       "    <tr>\n",
       "      <th>1</th>\n",
       "      <td>50000</td>\n",
       "      <td>2007</td>\n",
       "    </tr>\n",
       "    <tr>\n",
       "      <th>2</th>\n",
       "      <td>100000</td>\n",
       "      <td>2012</td>\n",
       "    </tr>\n",
       "    <tr>\n",
       "      <th>3</th>\n",
       "      <td>46000</td>\n",
       "      <td>2017</td>\n",
       "    </tr>\n",
       "    <tr>\n",
       "      <th>4</th>\n",
       "      <td>141000</td>\n",
       "      <td>2014</td>\n",
       "    </tr>\n",
       "    <tr>\n",
       "      <th>...</th>\n",
       "      <td>...</td>\n",
       "      <td>...</td>\n",
       "    </tr>\n",
       "    <tr>\n",
       "      <th>4335</th>\n",
       "      <td>80000</td>\n",
       "      <td>2014</td>\n",
       "    </tr>\n",
       "    <tr>\n",
       "      <th>4336</th>\n",
       "      <td>80000</td>\n",
       "      <td>2014</td>\n",
       "    </tr>\n",
       "    <tr>\n",
       "      <th>4337</th>\n",
       "      <td>83000</td>\n",
       "      <td>2009</td>\n",
       "    </tr>\n",
       "    <tr>\n",
       "      <th>4338</th>\n",
       "      <td>90000</td>\n",
       "      <td>2016</td>\n",
       "    </tr>\n",
       "    <tr>\n",
       "      <th>4339</th>\n",
       "      <td>40000</td>\n",
       "      <td>2016</td>\n",
       "    </tr>\n",
       "  </tbody>\n",
       "</table>\n",
       "<p>4340 rows × 2 columns</p>\n",
       "</div>"
      ]
     },
     "execution_count": 31,
     "metadata": {},
     "output_type": "execute_result"
    }
   ],
   "execution_count": 31
  },
  {
   "metadata": {
    "ExecuteTime": {
     "end_time": "2025-06-06T03:39:40.072913Z",
     "start_time": "2025-06-06T03:39:40.067315Z"
    }
   },
   "cell_type": "code",
   "source": "X_train,X_test,y_train,y_test =train_test_split(X,y,test_size=0.33,random_state=42)",
   "id": "b61046179189a4f2",
   "outputs": [],
   "execution_count": 32
  },
  {
   "metadata": {
    "ExecuteTime": {
     "end_time": "2025-06-06T03:39:49.373557Z",
     "start_time": "2025-06-06T03:39:49.367563Z"
    }
   },
   "cell_type": "code",
   "source": "X_train.shape,X_test.shape,y_train.shape,y_test.shape",
   "id": "9d553cc403a9b943",
   "outputs": [
    {
     "data": {
      "text/plain": [
       "((2907, 2), (1433, 2), (2907,), (1433,))"
      ]
     },
     "execution_count": 33,
     "metadata": {},
     "output_type": "execute_result"
    }
   ],
   "execution_count": 33
  },
  {
   "metadata": {
    "ExecuteTime": {
     "end_time": "2025-06-06T03:40:10.809935Z",
     "start_time": "2025-06-06T03:40:10.803076Z"
    }
   },
   "cell_type": "code",
   "source": "X_train.head()",
   "id": "68ffdd86bdfa233e",
   "outputs": [
    {
     "data": {
      "text/plain": [
       "      km_driven  year\n",
       "3679     400000  2006\n",
       "2093      50000  2015\n",
       "3220      20000  2019\n",
       "2422      80000  2017\n",
       "1867     100000  2005"
      ],
      "text/html": [
       "<div>\n",
       "<style scoped>\n",
       "    .dataframe tbody tr th:only-of-type {\n",
       "        vertical-align: middle;\n",
       "    }\n",
       "\n",
       "    .dataframe tbody tr th {\n",
       "        vertical-align: top;\n",
       "    }\n",
       "\n",
       "    .dataframe thead th {\n",
       "        text-align: right;\n",
       "    }\n",
       "</style>\n",
       "<table border=\"1\" class=\"dataframe\">\n",
       "  <thead>\n",
       "    <tr style=\"text-align: right;\">\n",
       "      <th></th>\n",
       "      <th>km_driven</th>\n",
       "      <th>year</th>\n",
       "    </tr>\n",
       "  </thead>\n",
       "  <tbody>\n",
       "    <tr>\n",
       "      <th>3679</th>\n",
       "      <td>400000</td>\n",
       "      <td>2006</td>\n",
       "    </tr>\n",
       "    <tr>\n",
       "      <th>2093</th>\n",
       "      <td>50000</td>\n",
       "      <td>2015</td>\n",
       "    </tr>\n",
       "    <tr>\n",
       "      <th>3220</th>\n",
       "      <td>20000</td>\n",
       "      <td>2019</td>\n",
       "    </tr>\n",
       "    <tr>\n",
       "      <th>2422</th>\n",
       "      <td>80000</td>\n",
       "      <td>2017</td>\n",
       "    </tr>\n",
       "    <tr>\n",
       "      <th>1867</th>\n",
       "      <td>100000</td>\n",
       "      <td>2005</td>\n",
       "    </tr>\n",
       "  </tbody>\n",
       "</table>\n",
       "</div>"
      ]
     },
     "execution_count": 34,
     "metadata": {},
     "output_type": "execute_result"
    }
   ],
   "execution_count": 34
  },
  {
   "metadata": {
    "ExecuteTime": {
     "end_time": "2025-06-06T03:42:49.469804Z",
     "start_time": "2025-06-06T03:42:49.462750Z"
    }
   },
   "cell_type": "code",
   "source": [
    "#Feature Scaling\n",
    "X_train_scaled=scaler.fit_transform(X_train)\n",
    "X_test_scaled=scaler.fit_transform(X_test)"
   ],
   "id": "f645255924ef0641",
   "outputs": [],
   "execution_count": 35
  },
  {
   "metadata": {
    "ExecuteTime": {
     "end_time": "2025-06-06T03:43:48.101740Z",
     "start_time": "2025-06-06T03:43:48.096369Z"
    }
   },
   "cell_type": "code",
   "source": "X_train_scaled",
   "id": "5075f8f4df64f051",
   "outputs": [
    {
     "data": {
      "text/plain": [
       "array([[0.49590874, 0.5       ],\n",
       "       [0.06198751, 0.82142857],\n",
       "       [0.02479426, 0.96428571],\n",
       "       ...,\n",
       "       [0.06322728, 0.85714286],\n",
       "       [0.09918076, 0.75      ],\n",
       "       [0.09918076, 0.75      ]])"
      ]
     },
     "execution_count": 37,
     "metadata": {},
     "output_type": "execute_result"
    }
   ],
   "execution_count": 37
  },
  {
   "metadata": {
    "ExecuteTime": {
     "end_time": "2025-06-06T03:44:22.868414Z",
     "start_time": "2025-06-06T03:44:22.864338Z"
    }
   },
   "cell_type": "code",
   "source": [
    "#creating data frames\n",
    "X_train_scaled=pd.DataFrame(X_train_scaled,columns=X_train.columns)\n",
    "X_test_scaled=pd.DataFrame(X_test_scaled,columns=X_test.columns)"
   ],
   "id": "574552150b093c88",
   "outputs": [],
   "execution_count": 39
  },
  {
   "metadata": {
    "ExecuteTime": {
     "end_time": "2025-06-06T03:44:30.308922Z",
     "start_time": "2025-06-06T03:44:30.301953Z"
    }
   },
   "cell_type": "code",
   "source": "X_test_scaled",
   "id": "b9e4e5a980021b77",
   "outputs": [
    {
     "data": {
      "text/plain": [
       "      km_driven      year\n",
       "0      0.228349  0.583333\n",
       "1      0.076876  0.958333\n",
       "2      0.118954  0.500000\n",
       "3      0.402685  0.750000\n",
       "4      0.171189  0.833333\n",
       "...         ...       ...\n",
       "1428   0.028291  0.916667\n",
       "1429   0.002569  1.000000\n",
       "1430   0.256928  0.625000\n",
       "1431   0.132627  0.875000\n",
       "1432   0.056871  0.875000\n",
       "\n",
       "[1433 rows x 2 columns]"
      ],
      "text/html": [
       "<div>\n",
       "<style scoped>\n",
       "    .dataframe tbody tr th:only-of-type {\n",
       "        vertical-align: middle;\n",
       "    }\n",
       "\n",
       "    .dataframe tbody tr th {\n",
       "        vertical-align: top;\n",
       "    }\n",
       "\n",
       "    .dataframe thead th {\n",
       "        text-align: right;\n",
       "    }\n",
       "</style>\n",
       "<table border=\"1\" class=\"dataframe\">\n",
       "  <thead>\n",
       "    <tr style=\"text-align: right;\">\n",
       "      <th></th>\n",
       "      <th>km_driven</th>\n",
       "      <th>year</th>\n",
       "    </tr>\n",
       "  </thead>\n",
       "  <tbody>\n",
       "    <tr>\n",
       "      <th>0</th>\n",
       "      <td>0.228349</td>\n",
       "      <td>0.583333</td>\n",
       "    </tr>\n",
       "    <tr>\n",
       "      <th>1</th>\n",
       "      <td>0.076876</td>\n",
       "      <td>0.958333</td>\n",
       "    </tr>\n",
       "    <tr>\n",
       "      <th>2</th>\n",
       "      <td>0.118954</td>\n",
       "      <td>0.500000</td>\n",
       "    </tr>\n",
       "    <tr>\n",
       "      <th>3</th>\n",
       "      <td>0.402685</td>\n",
       "      <td>0.750000</td>\n",
       "    </tr>\n",
       "    <tr>\n",
       "      <th>4</th>\n",
       "      <td>0.171189</td>\n",
       "      <td>0.833333</td>\n",
       "    </tr>\n",
       "    <tr>\n",
       "      <th>...</th>\n",
       "      <td>...</td>\n",
       "      <td>...</td>\n",
       "    </tr>\n",
       "    <tr>\n",
       "      <th>1428</th>\n",
       "      <td>0.028291</td>\n",
       "      <td>0.916667</td>\n",
       "    </tr>\n",
       "    <tr>\n",
       "      <th>1429</th>\n",
       "      <td>0.002569</td>\n",
       "      <td>1.000000</td>\n",
       "    </tr>\n",
       "    <tr>\n",
       "      <th>1430</th>\n",
       "      <td>0.256928</td>\n",
       "      <td>0.625000</td>\n",
       "    </tr>\n",
       "    <tr>\n",
       "      <th>1431</th>\n",
       "      <td>0.132627</td>\n",
       "      <td>0.875000</td>\n",
       "    </tr>\n",
       "    <tr>\n",
       "      <th>1432</th>\n",
       "      <td>0.056871</td>\n",
       "      <td>0.875000</td>\n",
       "    </tr>\n",
       "  </tbody>\n",
       "</table>\n",
       "<p>1433 rows × 2 columns</p>\n",
       "</div>"
      ]
     },
     "execution_count": 40,
     "metadata": {},
     "output_type": "execute_result"
    }
   ],
   "execution_count": 40
  },
  {
   "metadata": {},
   "cell_type": "code",
   "outputs": [],
   "execution_count": null,
   "source": "#When to apply feature scaling -using KNN , Kmeans CLustering, SVM,Principal component analysis,GMM, GDB algorithm",
   "id": "bfe05ec2b2e8afd9"
  }
 ],
 "metadata": {
  "kernelspec": {
   "display_name": "Python 3",
   "language": "python",
   "name": "python3"
  },
  "language_info": {
   "codemirror_mode": {
    "name": "ipython",
    "version": 2
   },
   "file_extension": ".py",
   "mimetype": "text/x-python",
   "name": "python",
   "nbconvert_exporter": "python",
   "pygments_lexer": "ipython2",
   "version": "2.7.6"
  }
 },
 "nbformat": 4,
 "nbformat_minor": 5
}
