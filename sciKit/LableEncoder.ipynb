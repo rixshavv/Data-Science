{
 "cells": [
  {
   "cell_type": "code",
   "id": "initial_id",
   "metadata": {
    "collapsed": true,
    "ExecuteTime": {
     "end_time": "2025-06-06T09:03:34.988379Z",
     "start_time": "2025-06-06T09:03:34.980005Z"
    }
   },
   "source": [
    "import numpy as np\n",
    "import pandas as pd"
   ],
   "outputs": [],
   "execution_count": 55
  },
  {
   "metadata": {
    "ExecuteTime": {
     "end_time": "2025-06-06T09:03:35.075467Z",
     "start_time": "2025-06-06T09:03:35.056236Z"
    }
   },
   "cell_type": "code",
   "source": "df=pd.read_csv('../Assets/CAR DETAILS FROM CAR DEKHO.csv')",
   "id": "34628a4085711a09",
   "outputs": [],
   "execution_count": 56
  },
  {
   "metadata": {
    "ExecuteTime": {
     "end_time": "2025-06-06T09:03:35.124625Z",
     "start_time": "2025-06-06T09:03:35.112440Z"
    }
   },
   "cell_type": "code",
   "source": "df.head()",
   "id": "d4b0406bf964d19c",
   "outputs": [
    {
     "data": {
      "text/plain": [
       "                       name  year  selling_price  km_driven    fuel  \\\n",
       "0             Maruti 800 AC  2007          60000      70000  Petrol   \n",
       "1  Maruti Wagon R LXI Minor  2007         135000      50000  Petrol   \n",
       "2      Hyundai Verna 1.6 SX  2012         600000     100000  Diesel   \n",
       "3    Datsun RediGO T Option  2017         250000      46000  Petrol   \n",
       "4     Honda Amaze VX i-DTEC  2014         450000     141000  Diesel   \n",
       "\n",
       "  seller_type transmission         owner  \n",
       "0  Individual       Manual   First Owner  \n",
       "1  Individual       Manual   First Owner  \n",
       "2  Individual       Manual   First Owner  \n",
       "3  Individual       Manual   First Owner  \n",
       "4  Individual       Manual  Second Owner  "
      ],
      "text/html": [
       "<div>\n",
       "<style scoped>\n",
       "    .dataframe tbody tr th:only-of-type {\n",
       "        vertical-align: middle;\n",
       "    }\n",
       "\n",
       "    .dataframe tbody tr th {\n",
       "        vertical-align: top;\n",
       "    }\n",
       "\n",
       "    .dataframe thead th {\n",
       "        text-align: right;\n",
       "    }\n",
       "</style>\n",
       "<table border=\"1\" class=\"dataframe\">\n",
       "  <thead>\n",
       "    <tr style=\"text-align: right;\">\n",
       "      <th></th>\n",
       "      <th>name</th>\n",
       "      <th>year</th>\n",
       "      <th>selling_price</th>\n",
       "      <th>km_driven</th>\n",
       "      <th>fuel</th>\n",
       "      <th>seller_type</th>\n",
       "      <th>transmission</th>\n",
       "      <th>owner</th>\n",
       "    </tr>\n",
       "  </thead>\n",
       "  <tbody>\n",
       "    <tr>\n",
       "      <th>0</th>\n",
       "      <td>Maruti 800 AC</td>\n",
       "      <td>2007</td>\n",
       "      <td>60000</td>\n",
       "      <td>70000</td>\n",
       "      <td>Petrol</td>\n",
       "      <td>Individual</td>\n",
       "      <td>Manual</td>\n",
       "      <td>First Owner</td>\n",
       "    </tr>\n",
       "    <tr>\n",
       "      <th>1</th>\n",
       "      <td>Maruti Wagon R LXI Minor</td>\n",
       "      <td>2007</td>\n",
       "      <td>135000</td>\n",
       "      <td>50000</td>\n",
       "      <td>Petrol</td>\n",
       "      <td>Individual</td>\n",
       "      <td>Manual</td>\n",
       "      <td>First Owner</td>\n",
       "    </tr>\n",
       "    <tr>\n",
       "      <th>2</th>\n",
       "      <td>Hyundai Verna 1.6 SX</td>\n",
       "      <td>2012</td>\n",
       "      <td>600000</td>\n",
       "      <td>100000</td>\n",
       "      <td>Diesel</td>\n",
       "      <td>Individual</td>\n",
       "      <td>Manual</td>\n",
       "      <td>First Owner</td>\n",
       "    </tr>\n",
       "    <tr>\n",
       "      <th>3</th>\n",
       "      <td>Datsun RediGO T Option</td>\n",
       "      <td>2017</td>\n",
       "      <td>250000</td>\n",
       "      <td>46000</td>\n",
       "      <td>Petrol</td>\n",
       "      <td>Individual</td>\n",
       "      <td>Manual</td>\n",
       "      <td>First Owner</td>\n",
       "    </tr>\n",
       "    <tr>\n",
       "      <th>4</th>\n",
       "      <td>Honda Amaze VX i-DTEC</td>\n",
       "      <td>2014</td>\n",
       "      <td>450000</td>\n",
       "      <td>141000</td>\n",
       "      <td>Diesel</td>\n",
       "      <td>Individual</td>\n",
       "      <td>Manual</td>\n",
       "      <td>Second Owner</td>\n",
       "    </tr>\n",
       "  </tbody>\n",
       "</table>\n",
       "</div>"
      ]
     },
     "execution_count": 57,
     "metadata": {},
     "output_type": "execute_result"
    }
   ],
   "execution_count": 57
  },
  {
   "metadata": {
    "ExecuteTime": {
     "end_time": "2025-06-06T09:03:35.247632Z",
     "start_time": "2025-06-06T09:03:35.240286Z"
    }
   },
   "cell_type": "code",
   "source": "df.drop(['name','year','selling_price','km_driven'],axis=1,inplace=True)\n",
   "id": "d8f918848b6505c4",
   "outputs": [],
   "execution_count": 58
  },
  {
   "metadata": {
    "ExecuteTime": {
     "end_time": "2025-06-06T09:03:35.448432Z",
     "start_time": "2025-06-06T09:03:35.435458Z"
    }
   },
   "cell_type": "code",
   "source": "df.head()",
   "id": "be85352bdb05fdc",
   "outputs": [
    {
     "data": {
      "text/plain": [
       "     fuel seller_type transmission         owner\n",
       "0  Petrol  Individual       Manual   First Owner\n",
       "1  Petrol  Individual       Manual   First Owner\n",
       "2  Diesel  Individual       Manual   First Owner\n",
       "3  Petrol  Individual       Manual   First Owner\n",
       "4  Diesel  Individual       Manual  Second Owner"
      ],
      "text/html": [
       "<div>\n",
       "<style scoped>\n",
       "    .dataframe tbody tr th:only-of-type {\n",
       "        vertical-align: middle;\n",
       "    }\n",
       "\n",
       "    .dataframe tbody tr th {\n",
       "        vertical-align: top;\n",
       "    }\n",
       "\n",
       "    .dataframe thead th {\n",
       "        text-align: right;\n",
       "    }\n",
       "</style>\n",
       "<table border=\"1\" class=\"dataframe\">\n",
       "  <thead>\n",
       "    <tr style=\"text-align: right;\">\n",
       "      <th></th>\n",
       "      <th>fuel</th>\n",
       "      <th>seller_type</th>\n",
       "      <th>transmission</th>\n",
       "      <th>owner</th>\n",
       "    </tr>\n",
       "  </thead>\n",
       "  <tbody>\n",
       "    <tr>\n",
       "      <th>0</th>\n",
       "      <td>Petrol</td>\n",
       "      <td>Individual</td>\n",
       "      <td>Manual</td>\n",
       "      <td>First Owner</td>\n",
       "    </tr>\n",
       "    <tr>\n",
       "      <th>1</th>\n",
       "      <td>Petrol</td>\n",
       "      <td>Individual</td>\n",
       "      <td>Manual</td>\n",
       "      <td>First Owner</td>\n",
       "    </tr>\n",
       "    <tr>\n",
       "      <th>2</th>\n",
       "      <td>Diesel</td>\n",
       "      <td>Individual</td>\n",
       "      <td>Manual</td>\n",
       "      <td>First Owner</td>\n",
       "    </tr>\n",
       "    <tr>\n",
       "      <th>3</th>\n",
       "      <td>Petrol</td>\n",
       "      <td>Individual</td>\n",
       "      <td>Manual</td>\n",
       "      <td>First Owner</td>\n",
       "    </tr>\n",
       "    <tr>\n",
       "      <th>4</th>\n",
       "      <td>Diesel</td>\n",
       "      <td>Individual</td>\n",
       "      <td>Manual</td>\n",
       "      <td>Second Owner</td>\n",
       "    </tr>\n",
       "  </tbody>\n",
       "</table>\n",
       "</div>"
      ]
     },
     "execution_count": 59,
     "metadata": {},
     "output_type": "execute_result"
    }
   ],
   "execution_count": 59
  },
  {
   "metadata": {
    "ExecuteTime": {
     "end_time": "2025-06-06T09:03:35.659383Z",
     "start_time": "2025-06-06T09:03:35.653266Z"
    }
   },
   "cell_type": "code",
   "source": [
    "# #converting categorical data to numerical values using Python\n",
    "# df['transmission']=df['transmission'].map({'Manual':0,'Automatic':1})"
   ],
   "id": "b865e7883206b163",
   "outputs": [],
   "execution_count": 60
  },
  {
   "metadata": {
    "ExecuteTime": {
     "end_time": "2025-06-06T09:03:35.822867Z",
     "start_time": "2025-06-06T09:03:35.812549Z"
    }
   },
   "cell_type": "code",
   "source": "df['transmission']",
   "id": "53f15750cd4c0979",
   "outputs": [
    {
     "data": {
      "text/plain": [
       "0       Manual\n",
       "1       Manual\n",
       "2       Manual\n",
       "3       Manual\n",
       "4       Manual\n",
       "         ...  \n",
       "4335    Manual\n",
       "4336    Manual\n",
       "4337    Manual\n",
       "4338    Manual\n",
       "4339    Manual\n",
       "Name: transmission, Length: 4340, dtype: object"
      ]
     },
     "execution_count": 61,
     "metadata": {},
     "output_type": "execute_result"
    }
   ],
   "execution_count": 61
  },
  {
   "metadata": {
    "ExecuteTime": {
     "end_time": "2025-06-06T09:03:36.006722Z",
     "start_time": "2025-06-06T09:03:35.994297Z"
    }
   },
   "cell_type": "code",
   "source": [
    "#for finding how many unique values in a column\n",
    "df['seller_type'].value_counts()"
   ],
   "id": "aa5b9dad3db706a4",
   "outputs": [
    {
     "data": {
      "text/plain": [
       "seller_type\n",
       "Individual          3244\n",
       "Dealer               994\n",
       "Trustmark Dealer     102\n",
       "Name: count, dtype: int64"
      ]
     },
     "execution_count": 62,
     "metadata": {},
     "output_type": "execute_result"
    }
   ],
   "execution_count": 62
  },
  {
   "metadata": {
    "ExecuteTime": {
     "end_time": "2025-06-06T09:03:36.260984Z",
     "start_time": "2025-06-06T09:03:36.255439Z"
    }
   },
   "cell_type": "code",
   "source": [
    "#mapping values to seller values\n",
    "# df['seller_type']=df['seller_type'].map({'Individual':0,'Dealer':1,'Trustmark Dealer':2})\n",
    "# df.head()"
   ],
   "id": "5349dc46b2bbb3c9",
   "outputs": [],
   "execution_count": 63
  },
  {
   "metadata": {
    "ExecuteTime": {
     "end_time": "2025-06-06T09:03:36.558296Z",
     "start_time": "2025-06-06T09:03:36.553133Z"
    }
   },
   "cell_type": "code",
   "source": "# df['fuel'].apply(lamda x:1 if x=='Petrol' else 0)",
   "id": "1caed5f6a2206393",
   "outputs": [],
   "execution_count": 64
  },
  {
   "metadata": {
    "ExecuteTime": {
     "end_time": "2025-06-06T09:03:36.678840Z",
     "start_time": "2025-06-06T09:03:36.673324Z"
    }
   },
   "cell_type": "code",
   "source": "from sklearn.model_selection import train_test_split\n",
   "id": "ed8f83b3b327de52",
   "outputs": [],
   "execution_count": 65
  },
  {
   "metadata": {
    "ExecuteTime": {
     "end_time": "2025-06-06T09:03:36.777448Z",
     "start_time": "2025-06-06T09:03:36.763572Z"
    }
   },
   "cell_type": "code",
   "source": "X_train,X_test,y_train,y_test=train_test_split(df.drop('fuel',axis=1),df['fuel'],test_size=0.2,random_state=42)",
   "id": "51e5713ec0d48eda",
   "outputs": [],
   "execution_count": 66
  },
  {
   "metadata": {
    "ExecuteTime": {
     "end_time": "2025-06-06T09:03:36.878981Z",
     "start_time": "2025-06-06T09:03:36.868584Z"
    }
   },
   "cell_type": "code",
   "source": "X_train.shape,X_test.shape,y_train.shape,y_test.shape",
   "id": "24938c6ca92df3ae",
   "outputs": [
    {
     "data": {
      "text/plain": [
       "((3472, 3), (868, 3), (3472,), (868,))"
      ]
     },
     "execution_count": 67,
     "metadata": {},
     "output_type": "execute_result"
    }
   ],
   "execution_count": 67
  },
  {
   "metadata": {
    "ExecuteTime": {
     "end_time": "2025-06-06T09:03:36.970926Z",
     "start_time": "2025-06-06T09:03:36.966031Z"
    }
   },
   "cell_type": "code",
   "source": [
    "#Feature Scaling\n",
    "from sklearn.preprocessing import LabelEncoder,OrdinalEncoder"
   ],
   "id": "f2f863f0b7f40a9d",
   "outputs": [],
   "execution_count": 68
  },
  {
   "metadata": {
    "ExecuteTime": {
     "end_time": "2025-06-06T09:03:37.052600Z",
     "start_time": "2025-06-06T09:03:37.044243Z"
    }
   },
   "cell_type": "code",
   "source": [
    "le=LabelEncoder()\n",
    "oe=OrdinalEncoder()"
   ],
   "id": "4a9114937d3261bb",
   "outputs": [],
   "execution_count": 69
  },
  {
   "metadata": {
    "ExecuteTime": {
     "end_time": "2025-06-06T09:03:37.114313Z",
     "start_time": "2025-06-06T09:03:37.106548Z"
    }
   },
   "cell_type": "code",
   "source": [
    "#Label encoder used for output data\n",
    "\n",
    "y_train_transform=le.fit_transform(y_train)\n",
    "y_test_transform=le.fit_transform(y_test)"
   ],
   "id": "11383ea69a5aea3f",
   "outputs": [],
   "execution_count": 70
  },
  {
   "metadata": {
    "ExecuteTime": {
     "end_time": "2025-06-06T09:03:37.177513Z",
     "start_time": "2025-06-06T09:03:37.168513Z"
    }
   },
   "cell_type": "code",
   "source": "y_train_transform",
   "id": "90b1acc8f5f2e072",
   "outputs": [
    {
     "data": {
      "text/plain": [
       "array([1, 1, 4, ..., 1, 1, 4])"
      ]
     },
     "execution_count": 71,
     "metadata": {},
     "output_type": "execute_result"
    }
   ],
   "execution_count": 71
  },
  {
   "metadata": {
    "ExecuteTime": {
     "end_time": "2025-06-06T09:05:50.084634Z",
     "start_time": "2025-06-06T09:05:50.072410Z"
    }
   },
   "cell_type": "code",
   "source": "y_train",
   "id": "2d2af99b49c8a270",
   "outputs": [
    {
     "data": {
      "text/plain": [
       "227     Diesel\n",
       "964     Diesel\n",
       "2045    Petrol\n",
       "1025    Diesel\n",
       "4242    Diesel\n",
       "         ...  \n",
       "3444    Diesel\n",
       "466     Diesel\n",
       "3092    Diesel\n",
       "3772    Diesel\n",
       "860     Petrol\n",
       "Name: fuel, Length: 3472, dtype: object"
      ]
     },
     "execution_count": 74,
     "metadata": {},
     "output_type": "execute_result"
    }
   ],
   "execution_count": 74
  },
  {
   "metadata": {
    "ExecuteTime": {
     "end_time": "2025-06-06T09:03:37.264835Z",
     "start_time": "2025-06-06T09:03:37.247563Z"
    }
   },
   "cell_type": "code",
   "source": [
    "#OrdinalEncoder for ordinal data like owner column first owner is higher than the second order etc\n",
    "\n",
    "X_train_transform=oe.fit_transform(X_train)\n",
    "X_test_transform=oe.fit_transform(X_test)"
   ],
   "id": "61f3cb1d0a6a6d01",
   "outputs": [],
   "execution_count": 72
  },
  {
   "metadata": {
    "ExecuteTime": {
     "end_time": "2025-06-06T09:03:37.354053Z",
     "start_time": "2025-06-06T09:03:37.342035Z"
    }
   },
   "cell_type": "code",
   "source": "X_train",
   "id": "e3eaa7cfd45ef9f2",
   "outputs": [
    {
     "data": {
      "text/plain": [
       "     seller_type transmission         owner\n",
       "227   Individual       Manual   First Owner\n",
       "964   Individual       Manual   First Owner\n",
       "2045  Individual       Manual  Second Owner\n",
       "1025  Individual       Manual   First Owner\n",
       "4242      Dealer       Manual   First Owner\n",
       "...          ...          ...           ...\n",
       "3444  Individual       Manual   First Owner\n",
       "466   Individual       Manual   First Owner\n",
       "3092      Dealer       Manual   First Owner\n",
       "3772  Individual       Manual   First Owner\n",
       "860   Individual       Manual   First Owner\n",
       "\n",
       "[3472 rows x 3 columns]"
      ],
      "text/html": [
       "<div>\n",
       "<style scoped>\n",
       "    .dataframe tbody tr th:only-of-type {\n",
       "        vertical-align: middle;\n",
       "    }\n",
       "\n",
       "    .dataframe tbody tr th {\n",
       "        vertical-align: top;\n",
       "    }\n",
       "\n",
       "    .dataframe thead th {\n",
       "        text-align: right;\n",
       "    }\n",
       "</style>\n",
       "<table border=\"1\" class=\"dataframe\">\n",
       "  <thead>\n",
       "    <tr style=\"text-align: right;\">\n",
       "      <th></th>\n",
       "      <th>seller_type</th>\n",
       "      <th>transmission</th>\n",
       "      <th>owner</th>\n",
       "    </tr>\n",
       "  </thead>\n",
       "  <tbody>\n",
       "    <tr>\n",
       "      <th>227</th>\n",
       "      <td>Individual</td>\n",
       "      <td>Manual</td>\n",
       "      <td>First Owner</td>\n",
       "    </tr>\n",
       "    <tr>\n",
       "      <th>964</th>\n",
       "      <td>Individual</td>\n",
       "      <td>Manual</td>\n",
       "      <td>First Owner</td>\n",
       "    </tr>\n",
       "    <tr>\n",
       "      <th>2045</th>\n",
       "      <td>Individual</td>\n",
       "      <td>Manual</td>\n",
       "      <td>Second Owner</td>\n",
       "    </tr>\n",
       "    <tr>\n",
       "      <th>1025</th>\n",
       "      <td>Individual</td>\n",
       "      <td>Manual</td>\n",
       "      <td>First Owner</td>\n",
       "    </tr>\n",
       "    <tr>\n",
       "      <th>4242</th>\n",
       "      <td>Dealer</td>\n",
       "      <td>Manual</td>\n",
       "      <td>First Owner</td>\n",
       "    </tr>\n",
       "    <tr>\n",
       "      <th>...</th>\n",
       "      <td>...</td>\n",
       "      <td>...</td>\n",
       "      <td>...</td>\n",
       "    </tr>\n",
       "    <tr>\n",
       "      <th>3444</th>\n",
       "      <td>Individual</td>\n",
       "      <td>Manual</td>\n",
       "      <td>First Owner</td>\n",
       "    </tr>\n",
       "    <tr>\n",
       "      <th>466</th>\n",
       "      <td>Individual</td>\n",
       "      <td>Manual</td>\n",
       "      <td>First Owner</td>\n",
       "    </tr>\n",
       "    <tr>\n",
       "      <th>3092</th>\n",
       "      <td>Dealer</td>\n",
       "      <td>Manual</td>\n",
       "      <td>First Owner</td>\n",
       "    </tr>\n",
       "    <tr>\n",
       "      <th>3772</th>\n",
       "      <td>Individual</td>\n",
       "      <td>Manual</td>\n",
       "      <td>First Owner</td>\n",
       "    </tr>\n",
       "    <tr>\n",
       "      <th>860</th>\n",
       "      <td>Individual</td>\n",
       "      <td>Manual</td>\n",
       "      <td>First Owner</td>\n",
       "    </tr>\n",
       "  </tbody>\n",
       "</table>\n",
       "<p>3472 rows × 3 columns</p>\n",
       "</div>"
      ]
     },
     "execution_count": 73,
     "metadata": {},
     "output_type": "execute_result"
    }
   ],
   "execution_count": 73
  },
  {
   "metadata": {
    "ExecuteTime": {
     "end_time": "2025-06-06T09:06:10.754836Z",
     "start_time": "2025-06-06T09:06:10.742200Z"
    }
   },
   "cell_type": "code",
   "source": "X_train_transform",
   "id": "6767e54d984a5757",
   "outputs": [
    {
     "data": {
      "text/plain": [
       "array([[1., 1., 0.],\n",
       "       [1., 1., 0.],\n",
       "       [1., 1., 2.],\n",
       "       ...,\n",
       "       [0., 1., 0.],\n",
       "       [1., 1., 0.],\n",
       "       [1., 1., 0.]])"
      ]
     },
     "execution_count": 75,
     "metadata": {},
     "output_type": "execute_result"
    }
   ],
   "execution_count": 75
  },
  {
   "metadata": {},
   "cell_type": "code",
   "outputs": [],
   "execution_count": null,
   "source": "",
   "id": "b944afdcceb16401"
  }
 ],
 "metadata": {
  "kernelspec": {
   "display_name": "Python 3",
   "language": "python",
   "name": "python3"
  },
  "language_info": {
   "codemirror_mode": {
    "name": "ipython",
    "version": 2
   },
   "file_extension": ".py",
   "mimetype": "text/x-python",
   "name": "python",
   "nbconvert_exporter": "python",
   "pygments_lexer": "ipython2",
   "version": "2.7.6"
  }
 },
 "nbformat": 4,
 "nbformat_minor": 5
}
