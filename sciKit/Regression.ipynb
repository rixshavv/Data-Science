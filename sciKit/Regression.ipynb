{
 "cells": [
  {
   "cell_type": "code",
   "id": "initial_id",
   "metadata": {
    "collapsed": true,
    "ExecuteTime": {
     "end_time": "2025-06-06T10:37:42.086968Z",
     "start_time": "2025-06-06T10:37:42.083124Z"
    }
   },
   "source": [
    "import numpy as np\n",
    "import matplotlib.pyplot as plt\n",
    "import pandas as pd\n",
    "import seaborn as sns\n",
    "from pyexpat import features"
   ],
   "outputs": [],
   "execution_count": 37
  },
  {
   "metadata": {
    "ExecuteTime": {
     "end_time": "2025-06-06T10:37:42.116978Z",
     "start_time": "2025-06-06T10:37:42.108456Z"
    }
   },
   "cell_type": "code",
   "source": [
    "df=pd.read_csv(\"../Assets/6 advertising.csv\")\n",
    "df.head()"
   ],
   "id": "b0413f06a6019ebf",
   "outputs": [
    {
     "data": {
      "text/plain": [
       "         TV    Radio  Newspaper    Sales\n",
       "0 230.10000 37.80000   69.20000 22.10000\n",
       "1  44.50000 39.30000   45.10000 10.40000\n",
       "2  17.20000 45.90000   69.30000 12.00000\n",
       "3 151.50000 41.30000   58.50000 16.50000\n",
       "4 180.80000 10.80000   58.40000 17.90000"
      ],
      "text/html": [
       "<div>\n",
       "<style scoped>\n",
       "    .dataframe tbody tr th:only-of-type {\n",
       "        vertical-align: middle;\n",
       "    }\n",
       "\n",
       "    .dataframe tbody tr th {\n",
       "        vertical-align: top;\n",
       "    }\n",
       "\n",
       "    .dataframe thead th {\n",
       "        text-align: right;\n",
       "    }\n",
       "</style>\n",
       "<table border=\"1\" class=\"dataframe\">\n",
       "  <thead>\n",
       "    <tr style=\"text-align: right;\">\n",
       "      <th></th>\n",
       "      <th>TV</th>\n",
       "      <th>Radio</th>\n",
       "      <th>Newspaper</th>\n",
       "      <th>Sales</th>\n",
       "    </tr>\n",
       "  </thead>\n",
       "  <tbody>\n",
       "    <tr>\n",
       "      <th>0</th>\n",
       "      <td>230.10000</td>\n",
       "      <td>37.80000</td>\n",
       "      <td>69.20000</td>\n",
       "      <td>22.10000</td>\n",
       "    </tr>\n",
       "    <tr>\n",
       "      <th>1</th>\n",
       "      <td>44.50000</td>\n",
       "      <td>39.30000</td>\n",
       "      <td>45.10000</td>\n",
       "      <td>10.40000</td>\n",
       "    </tr>\n",
       "    <tr>\n",
       "      <th>2</th>\n",
       "      <td>17.20000</td>\n",
       "      <td>45.90000</td>\n",
       "      <td>69.30000</td>\n",
       "      <td>12.00000</td>\n",
       "    </tr>\n",
       "    <tr>\n",
       "      <th>3</th>\n",
       "      <td>151.50000</td>\n",
       "      <td>41.30000</td>\n",
       "      <td>58.50000</td>\n",
       "      <td>16.50000</td>\n",
       "    </tr>\n",
       "    <tr>\n",
       "      <th>4</th>\n",
       "      <td>180.80000</td>\n",
       "      <td>10.80000</td>\n",
       "      <td>58.40000</td>\n",
       "      <td>17.90000</td>\n",
       "    </tr>\n",
       "  </tbody>\n",
       "</table>\n",
       "</div>"
      ]
     },
     "execution_count": 38,
     "metadata": {},
     "output_type": "execute_result"
    }
   ],
   "execution_count": 38
  },
  {
   "metadata": {
    "ExecuteTime": {
     "end_time": "2025-06-06T10:37:42.171915Z",
     "start_time": "2025-06-06T10:37:42.168169Z"
    }
   },
   "cell_type": "code",
   "source": [
    "#It is a supervised Learning problem -it has label data (have both input and output column)\n",
    "#In supervised it is regression problem -it has continous value"
   ],
   "id": "82326d32e44f4f84",
   "outputs": [],
   "execution_count": 39
  },
  {
   "metadata": {
    "ExecuteTime": {
     "end_time": "2025-06-06T10:37:42.214813Z",
     "start_time": "2025-06-06T10:37:42.211951Z"
    }
   },
   "cell_type": "code",
   "source": "#Sales-output column and rest input column",
   "id": "20ce318fcccee23d",
   "outputs": [],
   "execution_count": 40
  },
  {
   "metadata": {
    "ExecuteTime": {
     "end_time": "2025-06-06T10:37:42.335213Z",
     "start_time": "2025-06-06T10:37:42.257582Z"
    }
   },
   "cell_type": "code",
   "source": [
    "plt.scatter(x=df['TV'],y=df['Sales'])\n",
    "\n",
    "#It is linear"
   ],
   "id": "a249179adaef4f16",
   "outputs": [
    {
     "data": {
      "text/plain": [
       "<matplotlib.collections.PathCollection at 0x2ec32100f90>"
      ]
     },
     "execution_count": 41,
     "metadata": {},
     "output_type": "execute_result"
    },
    {
     "data": {
      "text/plain": [
       "<Figure size 640x480 with 1 Axes>"
      ],
      "image/png": "[encoded data removed]"
     },
     "metadata": {},
     "output_type": "display_data"
    }
   ],
   "execution_count": 41
  },
  {
   "metadata": {
    "ExecuteTime": {
     "end_time": "2025-06-06T10:37:42.363687Z",
     "start_time": "2025-06-06T10:37:42.358316Z"
    }
   },
   "cell_type": "code",
   "source": [
    "from sklearn.model_selection import train_test_split\n",
    "\n",
    "X_train,X_test,y_train,y_test=train_test_split(df.drop('Sales', axis=1),df['Sales'],test_size=0.2,random_state=42)\n",
    "\n",
    "#Note\n",
    "#instead of using drop method we can also use iloc\n",
    "# df.iloc[:,:-1] it means taking all rows all columns except the last one"
   ],
   "id": "f09ab8847ed7dd4a",
   "outputs": [],
   "execution_count": 42
  },
  {
   "metadata": {
    "ExecuteTime": {
     "end_time": "2025-06-06T10:37:42.388076Z",
     "start_time": "2025-06-06T10:37:42.383120Z"
    }
   },
   "cell_type": "code",
   "source": "X_train.shape,X_test.shape,y_train.shape,y_test.shape",
   "id": "eed13f16f4561186",
   "outputs": [
    {
     "data": {
      "text/plain": [
       "((160, 3), (40, 3), (160,), (40,))"
      ]
     },
     "execution_count": 43,
     "metadata": {},
     "output_type": "execute_result"
    }
   ],
   "execution_count": 43
  },
  {
   "metadata": {
    "ExecuteTime": {
     "end_time": "2025-06-06T10:37:42.424044Z",
     "start_time": "2025-06-06T10:37:42.420766Z"
    }
   },
   "cell_type": "code",
   "source": "#Applying Linear Regression",
   "id": "58b997a7c85bf683",
   "outputs": [],
   "execution_count": 44
  },
  {
   "metadata": {
    "ExecuteTime": {
     "end_time": "2025-06-06T10:37:42.453797Z",
     "start_time": "2025-06-06T10:37:42.448288Z"
    }
   },
   "cell_type": "code",
   "source": [
    "from sklearn.linear_model import LinearRegression\n",
    "lr = LinearRegression()\n",
    "\n",
    "lr.fit(X_train,y_train) #80% data is sent for training\n",
    "y_pred=lr.predict(X_test) #testing the model on 20% of input data but we cannot use y test 20% data as it is used for comparison purpose"
   ],
   "id": "c3f9b345c981fadd",
   "outputs": [],
   "execution_count": 45
  },
  {
   "metadata": {
    "ExecuteTime": {
     "end_time": "2025-06-06T10:37:42.477673Z",
     "start_time": "2025-06-06T10:37:42.473647Z"
    }
   },
   "cell_type": "code",
   "source": "y_pred #This will produce the values like an close value when given the input ,because no model can be perfect , so it must be close to the accurrate value.",
   "id": "f89786c778533d64",
   "outputs": [
    {
     "data": {
      "text/plain": [
       "array([17.0347724 , 20.40974033, 23.72398873,  9.27278518, 21.68271879,\n",
       "       12.56940161, 21.08119452,  8.69035045, 17.23701254, 16.66657475,\n",
       "        8.92396497,  8.4817344 , 18.2075123 ,  8.06750728, 12.64550975,\n",
       "       14.93162809,  8.12814594, 17.89876565, 11.00880637, 20.47832788,\n",
       "       20.80631846, 12.59883297, 10.9051829 , 22.38854775,  9.41796094,\n",
       "        7.92506736, 20.83908497, 13.81520938, 10.77080925,  7.92682509,\n",
       "       15.95947357, 10.63490851, 20.80292008, 10.43434164, 21.5784752 ,\n",
       "       21.18364487, 12.12821771, 22.80953262, 12.60992766,  6.46441252])"
      ]
     },
     "execution_count": 46,
     "metadata": {},
     "output_type": "execute_result"
    }
   ],
   "execution_count": 46
  },
  {
   "metadata": {
    "ExecuteTime": {
     "end_time": "2025-06-06T10:37:42.523766Z",
     "start_time": "2025-06-06T10:37:42.519109Z"
    }
   },
   "cell_type": "code",
   "source": [
    "#Error Checking for the model\n",
    "\n",
    "from sklearn.metrics import mean_absolute_error,r2_score\n",
    "mean_absolute_error(y_test,y_pred) #calculating error from the model as the predicted output is how much vary from the exact output"
   ],
   "id": "1dad83a9f14c9b6",
   "outputs": [
    {
     "data": {
      "text/plain": [
       "1.2748262109549338"
      ]
     },
     "execution_count": 47,
     "metadata": {},
     "output_type": "execute_result"
    }
   ],
   "execution_count": 47
  },
  {
   "metadata": {
    "ExecuteTime": {
     "end_time": "2025-06-06T10:37:42.563995Z",
     "start_time": "2025-06-06T10:37:42.557979Z"
    }
   },
   "cell_type": "code",
   "source": [
    "\"\"\"R2 score- Imagine a teacher wants to predict a student's marks based on the number of hours they study.\n",
    "\n",
    "The actual marks are what the student really scored.\n",
    "\n",
    "The predicted marks are what the teacher thinks the student will score.\n",
    "\n",
    "Now:\n",
    "\n",
    "If the teacher’s guesses are very close to actual marks, R² will be close to 1.\n",
    "\n",
    "If the guesses are completely off, R² will be near 0 or negative\n",
    "\n",
    "R² = 1 → model is perfect 🏆\n",
    "\n",
    "R² = 0 → model is as good as just guessing average 🤷\n",
    "\n",
    "R² = -1 → model is worse than guessing average\"\"\"\n",
    "\n",
    "r2_score(y_test,y_pred) #1.0-means model is 100% perfect fit"
   ],
   "id": "3afbc4e98419decf",
   "outputs": [
    {
     "data": {
      "text/plain": [
       "0.9059011844150826"
      ]
     },
     "execution_count": 48,
     "metadata": {},
     "output_type": "execute_result"
    }
   ],
   "execution_count": 48
  },
  {
   "metadata": {
    "ExecuteTime": {
     "end_time": "2025-06-06T10:42:05.792733Z",
     "start_time": "2025-06-06T10:42:05.788769Z"
    }
   },
   "cell_type": "code",
   "source": [
    "def predict_sales( tv_budget,Radio_budget,newsapaper_budget):\n",
    "    features=np.array([[tv_budget,Radio_budget,newsapaper_budget]])\n",
    "    results=lr.predict(features).reshape(1,-1)\n",
    "\n",
    "\n",
    "    '''| Code              | Meaning                 | Shape  |\n",
    "| ----------------- | ----------------------- | ------ |\n",
    "| `.reshape(1, -1)` | 1 row, auto-fit columns | (1, n) |\n",
    "| `.reshape(-1, 1)` | 1 column, auto-fit rows | (n, 1) |\n",
    "| `.reshape(-1,)`   | Flatten to 1D array     | (n,)   |\n",
    "'''\n",
    "    return results[0]\n"
   ],
   "id": "86c6f4832a28d588",
   "outputs": [],
   "execution_count": 61
  },
  {
   "metadata": {
    "ExecuteTime": {
     "end_time": "2025-06-06T10:42:07.907098Z",
     "start_time": "2025-06-06T10:42:07.901756Z"
    }
   },
   "cell_type": "code",
   "source": "df.iloc[0]",
   "id": "839cf13ad158c935",
   "outputs": [
    {
     "data": {
      "text/plain": [
       "TV          230.10000\n",
       "Radio        37.80000\n",
       "Newspaper    69.20000\n",
       "Sales        22.10000\n",
       "Name: 0, dtype: float64"
      ]
     },
     "execution_count": 62,
     "metadata": {},
     "output_type": "execute_result"
    }
   ],
   "execution_count": 62
  },
  {
   "metadata": {
    "ExecuteTime": {
     "end_time": "2025-06-06T10:42:11.371577Z",
     "start_time": "2025-06-06T10:42:11.349708Z"
    }
   },
   "cell_type": "code",
   "source": [
    "tv_budget=230.1\n",
    "Radio_budget=37.8\n",
    "newspaper_budget=69.2\n",
    "sales=predict_sales(tv_budget,Radio_budget,newspaper_budget)"
   ],
   "id": "34bb98584a5ab2c7",
   "outputs": [
    {
     "name": "stderr",
     "output_type": "stream",
     "text": [
      "C:\\Users\\risha\\PycharmProjects\\PythonProject\\.venv\\Lib\\site-packages\\sklearn\\utils\\validation.py:2739: UserWarning: X does not have valid feature names, but LinearRegression was fitted with feature names\n",
      "  warnings.warn(\n"
     ]
    }
   ],
   "execution_count": 63
  },
  {
   "metadata": {
    "ExecuteTime": {
     "end_time": "2025-06-06T10:42:18.202312Z",
     "start_time": "2025-06-06T10:42:18.198277Z"
    }
   },
   "cell_type": "code",
   "source": "print(sales)",
   "id": "e8007c7306e4a943",
   "outputs": [
    {
     "name": "stdout",
     "output_type": "stream",
     "text": [
      "[21.37254028]\n"
     ]
    }
   ],
   "execution_count": 64
  },
  {
   "metadata": {
    "ExecuteTime": {
     "end_time": "2025-06-06T10:50:36.841590Z",
     "start_time": "2025-06-06T10:50:36.836491Z"
    }
   },
   "cell_type": "code",
   "source": [
    "import pickle #this library is used to save your model\n",
    "\n",
    "pickle.dump(lr, open('Projects/Project1/Linear_regression_model.pkl', 'wb'))"
   ],
   "id": "219d9073e973c5d3",
   "outputs": [],
   "execution_count": 65
  }
 ],
 "metadata": {
  "kernelspec": {
   "display_name": "Python 3",
   "language": "python",
   "name": "python3"
  },
  "language_info": {
   "codemirror_mode": {
    "name": "ipython",
    "version": 2
   },
   "file_extension": ".py",
   "mimetype": "text/x-python",
   "name": "python",
   "nbconvert_exporter": "python",
   "pygments_lexer": "ipython2",
   "version": "2.7.6"
  }
 },
 "nbformat": 4,
 "nbformat_minor": 5
}
