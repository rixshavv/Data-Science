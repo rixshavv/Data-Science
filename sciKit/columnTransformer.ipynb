{
 "cells": [
  {
   "cell_type": "code",
   "id": "initial_id",
   "metadata": {
    "collapsed": true,
    "ExecuteTime": {
     "end_time": "2025-06-08T08:47:36.235154Z",
     "start_time": "2025-06-08T08:47:35.618800Z"
    }
   },
   "source": [
    "import numpy as np\n",
    "import pandas as pd\n",
    "from sklearn.impute import SimpleImputer\n",
    "from sklearn.preprocessing import OrdinalEncoder, OneHotEncoder\n",
    "\n",
    "from sciKit.Projects.Project2.churnPrediction import X_train, X_test"
   ],
   "outputs": [],
   "execution_count": 3
  },
  {
   "metadata": {
    "ExecuteTime": {
     "end_time": "2025-06-08T08:48:29.725440Z",
     "start_time": "2025-06-08T08:48:29.699123Z"
    }
   },
   "cell_type": "code",
   "source": "df=pd.read_csv(\"../Assets/9 covid_toy.csv\")",
   "id": "172bb338ac87e1d4",
   "outputs": [],
   "execution_count": 5
  },
  {
   "metadata": {
    "ExecuteTime": {
     "end_time": "2025-06-08T08:57:58.036316Z",
     "start_time": "2025-06-08T08:57:58.032459Z"
    }
   },
   "cell_type": "code",
   "source": "#Diffrent types of encoding of data in one line of code",
   "id": "b4a0b605de435215",
   "outputs": [],
   "execution_count": 11
  },
  {
   "metadata": {},
   "cell_type": "code",
   "outputs": [],
   "execution_count": null,
   "source": "",
   "id": "d5e0717995eaa010"
  },
  {
   "metadata": {
    "ExecuteTime": {
     "end_time": "2025-06-08T08:51:36.587419Z",
     "start_time": "2025-06-08T08:51:36.565880Z"
    }
   },
   "cell_type": "code",
   "source": [
    "from sklearn.model_selection import train_test_split\n",
    "X=df.drop(columns=['has_covid'])\n",
    "y=df['has_covid']\n",
    "\n",
    "X_train,X_test,y_train,y_test=train_test_split(X,y,test_size=0.2,random_state=42)"
   ],
   "id": "f5ab8d80deecc642",
   "outputs": [],
   "execution_count": 6
  },
  {
   "metadata": {
    "ExecuteTime": {
     "end_time": "2025-06-08T08:51:53.049109Z",
     "start_time": "2025-06-08T08:51:53.033148Z"
    }
   },
   "cell_type": "code",
   "source": "X_train.shape",
   "id": "e7517a3654ead942",
   "outputs": [
    {
     "data": {
      "text/plain": [
       "(80, 5)"
      ]
     },
     "execution_count": 7,
     "metadata": {},
     "output_type": "execute_result"
    }
   ],
   "execution_count": 7
  },
  {
   "metadata": {
    "ExecuteTime": {
     "end_time": "2025-06-08T08:40:39.784013Z",
     "start_time": "2025-06-08T08:40:35.818721Z"
    }
   },
   "cell_type": "code",
   "source": "from sklearn.compose import ColumnTransformer",
   "id": "7f06c053823eeb8f",
   "outputs": [],
   "execution_count": 2
  },
  {
   "metadata": {
    "ExecuteTime": {
     "end_time": "2025-06-08T08:53:17.112324Z",
     "start_time": "2025-06-08T08:53:17.104569Z"
    }
   },
   "cell_type": "code",
   "source": [
    "tf=ColumnTransformer(\n",
    "    transformers=[\n",
    "        (\"tf1\",SimpleImputer(),['fever']),\n",
    "        (\"tf2\",OrdinalEncoder(categories=[['Mild','Strong']]),['cough']),\n",
    "        (\"tf3\",OneHotEncoder(drop='first',sparse_output=False),['gender','city']),\n",
    "    ],\n",
    "    remainder=\"passthrough\"\n",
    ")"
   ],
   "id": "53db11fec7d40d03",
   "outputs": [],
   "execution_count": 9
  },
  {
   "metadata": {
    "ExecuteTime": {
     "end_time": "2025-06-08T08:53:57.205600Z",
     "start_time": "2025-06-08T08:53:57.170598Z"
    }
   },
   "cell_type": "code",
   "source": [
    "X_train_transformed=tf.fit_transform(X_train)\n",
    "X_test_transformed=tf.transform(X_test)"
   ],
   "id": "a4617b368be96f6b",
   "outputs": [],
   "execution_count": 10
  }
 ],
 "metadata": {
  "kernelspec": {
   "display_name": "Python 3",
   "language": "python",
   "name": "python3"
  },
  "language_info": {
   "codemirror_mode": {
    "name": "ipython",
    "version": 2
   },
   "file_extension": ".py",
   "mimetype": "text/x-python",
   "name": "python",
   "nbconvert_exporter": "python",
   "pygments_lexer": "ipython2",
   "version": "2.7.6"
  }
 },
 "nbformat": 4,
 "nbformat_minor": 5
}
